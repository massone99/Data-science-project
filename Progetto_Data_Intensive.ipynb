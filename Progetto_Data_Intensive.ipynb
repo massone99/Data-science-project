{
  "nbformat": 4,
  "nbformat_minor": 0,
  "metadata": {
    "colab": {
      "name": "Progetto Data Intensive.ipynb",
      "provenance": [],
      "collapsed_sections": [
        "hInOIDeEzOlU",
        "RaxUJRhpzTFf",
        "9A3VyoXEB5DX"
      ],
      "authorship_tag": "ABX9TyNWv646gfQF4yMWLEUpxnbQ",
      "include_colab_link": true
    },
    "kernelspec": {
      "display_name": "Python 3",
      "name": "python3"
    },
    "language_info": {
      "name": "python"
    }
  },
  "cells": [
    {
      "cell_type": "markdown",
      "metadata": {
        "id": "view-in-github",
        "colab_type": "text"
      },
      "source": [
        "<a href=\"https://colab.research.google.com/github/massone99/Data-science-project/blob/main/Progetto_Data_Intensive.ipynb\" target=\"_parent\"><img src=\"https://colab.research.google.com/assets/colab-badge.svg\" alt=\"Open In Colab\"/></a>"
      ]
    },
    {
      "cell_type": "markdown",
      "metadata": {
        "id": "C9IE1eu-hMOK"
      },
      "source": [
        "# Determinare la predisposizione di un individuo a colpi apoplettici (Ictus)\n",
        "\n",
        "**Programmazione di Applicazioni Data Intensive**  \n",
        "Laurea in Ingegneria e Scienze Informatiche  \n",
        "DISI - Università di Bologna, Cesena\n",
        "\n",
        "Lorenzo Massone"
      ]
    },
    {
      "cell_type": "markdown",
      "metadata": {
        "id": "Mb-noTsBhRG5"
      },
      "source": [
        "##Descrizione del problema e analisi esplorativa\n",
        "\n",
        "Si deve realizzare un modello che sia in grado di classificare individui come a rischio apoplettico o meno, in base ai dati forniti riguardo il loro attuale stato di salute.\n",
        "\n",
        "Vengono importate le librerie necessarie per scaricare i file, organizzare le strutture dati e disegnare i grafici."
      ]
    },
    {
      "cell_type": "code",
      "metadata": {
        "colab": {
          "base_uri": "https://localhost:8080/"
        },
        "id": "SM8aea_E24NY",
        "outputId": "57ca81bd-969d-4284-d5c3-e46d7c094795"
      },
      "source": [
        "pip install seaborn"
      ],
      "execution_count": 1,
      "outputs": [
        {
          "output_type": "stream",
          "text": [
            "Requirement already satisfied: seaborn in /usr/local/lib/python3.7/dist-packages (0.11.1)\n",
            "Requirement already satisfied: pandas>=0.23 in /usr/local/lib/python3.7/dist-packages (from seaborn) (1.1.5)\n",
            "Requirement already satisfied: matplotlib>=2.2 in /usr/local/lib/python3.7/dist-packages (from seaborn) (3.2.2)\n",
            "Requirement already satisfied: scipy>=1.0 in /usr/local/lib/python3.7/dist-packages (from seaborn) (1.4.1)\n",
            "Requirement already satisfied: numpy>=1.15 in /usr/local/lib/python3.7/dist-packages (from seaborn) (1.19.5)\n",
            "Requirement already satisfied: pytz>=2017.2 in /usr/local/lib/python3.7/dist-packages (from pandas>=0.23->seaborn) (2018.9)\n",
            "Requirement already satisfied: python-dateutil>=2.7.3 in /usr/local/lib/python3.7/dist-packages (from pandas>=0.23->seaborn) (2.8.1)\n",
            "Requirement already satisfied: pyparsing!=2.0.4,!=2.1.2,!=2.1.6,>=2.0.1 in /usr/local/lib/python3.7/dist-packages (from matplotlib>=2.2->seaborn) (2.4.7)\n",
            "Requirement already satisfied: kiwisolver>=1.0.1 in /usr/local/lib/python3.7/dist-packages (from matplotlib>=2.2->seaborn) (1.3.1)\n",
            "Requirement already satisfied: cycler>=0.10 in /usr/local/lib/python3.7/dist-packages (from matplotlib>=2.2->seaborn) (0.10.0)\n",
            "Requirement already satisfied: six>=1.5 in /usr/local/lib/python3.7/dist-packages (from python-dateutil>=2.7.3->pandas>=0.23->seaborn) (1.15.0)\n"
          ],
          "name": "stdout"
        }
      ]
    },
    {
      "cell_type": "code",
      "metadata": {
        "id": "-SmSh0s1hDup"
      },
      "source": [
        "import numpy as np\n",
        "import pandas as pd\n",
        "import matplotlib.pyplot as plt\n",
        "import seaborn as sns \n",
        "import sklearn\n",
        "%matplotlib inline"
      ],
      "execution_count": 2,
      "outputs": []
    },
    {
      "cell_type": "markdown",
      "metadata": {
        "id": "bNUDKDCcj9wK"
      },
      "source": [
        "### Caricamento dei dati e preprocessing"
      ]
    },
    {
      "cell_type": "markdown",
      "metadata": {
        "id": "50NsoV99UZpT"
      },
      "source": [
        "Scarichiamo i dati che andremo ad utilizzare per addestrare i nostri modelli:\n",
        "\n"
      ]
    },
    {
      "cell_type": "code",
      "metadata": {
        "id": "E_NP32nEhRG6"
      },
      "source": [
        "import os\n",
        "\n",
        "file_zip_name = \"stroke.zip\"\n",
        "file_csv_name = \"healthcare-dataset-stroke-data.csv\"\n",
        "\n",
        "if not os.path.exists(file_zip_name):\n",
        "    from urllib.request import urlretrieve\n",
        "    urlretrieve(\"https://git.io/JnEMm\", file_zip_name)\n",
        "    from zipfile import ZipFile"
      ],
      "execution_count": 3,
      "outputs": []
    },
    {
      "cell_type": "code",
      "metadata": {
        "colab": {
          "base_uri": "https://localhost:8080/"
        },
        "id": "RXKDQ-CmE4n7",
        "outputId": "4362fcb9-e1ce-4b14-8f68-c80db69c0747"
      },
      "source": [
        "!unzip \"stroke.zip\""
      ],
      "execution_count": 4,
      "outputs": [
        {
          "output_type": "stream",
          "text": [
            "Archive:  stroke.zip\n",
            "  inflating: healthcare-dataset-stroke-data.csv  \n"
          ],
          "name": "stdout"
        }
      ]
    },
    {
      "cell_type": "code",
      "metadata": {
        "id": "xlJN4NmCVXqc"
      },
      "source": [
        "data_raw = pd.read_csv(file_csv_name)"
      ],
      "execution_count": 5,
      "outputs": []
    },
    {
      "cell_type": "code",
      "metadata": {
        "colab": {
          "base_uri": "https://localhost:8080/",
          "height": 204
        },
        "id": "MdH_mHdofQEX",
        "outputId": "f4999913-e09e-4728-8fd3-4b7c5dbfa6b5"
      },
      "source": [
        "data_raw.head()"
      ],
      "execution_count": 6,
      "outputs": [
        {
          "output_type": "execute_result",
          "data": {
            "text/html": [
              "<div>\n",
              "<style scoped>\n",
              "    .dataframe tbody tr th:only-of-type {\n",
              "        vertical-align: middle;\n",
              "    }\n",
              "\n",
              "    .dataframe tbody tr th {\n",
              "        vertical-align: top;\n",
              "    }\n",
              "\n",
              "    .dataframe thead th {\n",
              "        text-align: right;\n",
              "    }\n",
              "</style>\n",
              "<table border=\"1\" class=\"dataframe\">\n",
              "  <thead>\n",
              "    <tr style=\"text-align: right;\">\n",
              "      <th></th>\n",
              "      <th>id</th>\n",
              "      <th>gender</th>\n",
              "      <th>age</th>\n",
              "      <th>hypertension</th>\n",
              "      <th>heart_disease</th>\n",
              "      <th>ever_married</th>\n",
              "      <th>work_type</th>\n",
              "      <th>Residence_type</th>\n",
              "      <th>avg_glucose_level</th>\n",
              "      <th>bmi</th>\n",
              "      <th>smoking_status</th>\n",
              "      <th>stroke</th>\n",
              "    </tr>\n",
              "  </thead>\n",
              "  <tbody>\n",
              "    <tr>\n",
              "      <th>0</th>\n",
              "      <td>9046</td>\n",
              "      <td>Male</td>\n",
              "      <td>67.0</td>\n",
              "      <td>0</td>\n",
              "      <td>1</td>\n",
              "      <td>Yes</td>\n",
              "      <td>Private</td>\n",
              "      <td>Urban</td>\n",
              "      <td>228.69</td>\n",
              "      <td>36.6</td>\n",
              "      <td>formerly smoked</td>\n",
              "      <td>1</td>\n",
              "    </tr>\n",
              "    <tr>\n",
              "      <th>1</th>\n",
              "      <td>51676</td>\n",
              "      <td>Female</td>\n",
              "      <td>61.0</td>\n",
              "      <td>0</td>\n",
              "      <td>0</td>\n",
              "      <td>Yes</td>\n",
              "      <td>Self-employed</td>\n",
              "      <td>Rural</td>\n",
              "      <td>202.21</td>\n",
              "      <td>NaN</td>\n",
              "      <td>never smoked</td>\n",
              "      <td>1</td>\n",
              "    </tr>\n",
              "    <tr>\n",
              "      <th>2</th>\n",
              "      <td>31112</td>\n",
              "      <td>Male</td>\n",
              "      <td>80.0</td>\n",
              "      <td>0</td>\n",
              "      <td>1</td>\n",
              "      <td>Yes</td>\n",
              "      <td>Private</td>\n",
              "      <td>Rural</td>\n",
              "      <td>105.92</td>\n",
              "      <td>32.5</td>\n",
              "      <td>never smoked</td>\n",
              "      <td>1</td>\n",
              "    </tr>\n",
              "    <tr>\n",
              "      <th>3</th>\n",
              "      <td>60182</td>\n",
              "      <td>Female</td>\n",
              "      <td>49.0</td>\n",
              "      <td>0</td>\n",
              "      <td>0</td>\n",
              "      <td>Yes</td>\n",
              "      <td>Private</td>\n",
              "      <td>Urban</td>\n",
              "      <td>171.23</td>\n",
              "      <td>34.4</td>\n",
              "      <td>smokes</td>\n",
              "      <td>1</td>\n",
              "    </tr>\n",
              "    <tr>\n",
              "      <th>4</th>\n",
              "      <td>1665</td>\n",
              "      <td>Female</td>\n",
              "      <td>79.0</td>\n",
              "      <td>1</td>\n",
              "      <td>0</td>\n",
              "      <td>Yes</td>\n",
              "      <td>Self-employed</td>\n",
              "      <td>Rural</td>\n",
              "      <td>174.12</td>\n",
              "      <td>24.0</td>\n",
              "      <td>never smoked</td>\n",
              "      <td>1</td>\n",
              "    </tr>\n",
              "  </tbody>\n",
              "</table>\n",
              "</div>"
            ],
            "text/plain": [
              "      id  gender   age  ...   bmi   smoking_status stroke\n",
              "0   9046    Male  67.0  ...  36.6  formerly smoked      1\n",
              "1  51676  Female  61.0  ...   NaN     never smoked      1\n",
              "2  31112    Male  80.0  ...  32.5     never smoked      1\n",
              "3  60182  Female  49.0  ...  34.4           smokes      1\n",
              "4   1665  Female  79.0  ...  24.0     never smoked      1\n",
              "\n",
              "[5 rows x 12 columns]"
            ]
          },
          "metadata": {
            "tags": []
          },
          "execution_count": 6
        }
      ]
    },
    {
      "cell_type": "markdown",
      "metadata": {
        "id": "6iJJcC7Kudkq"
      },
      "source": [
        "Di seguito sono riportate le principali informazioni riguardo i dati, tra cui le dimensioni in memoria, il numero di istanze non nulle e i tipi delle feature presenti nelle varie istanze del dataset."
      ]
    },
    {
      "cell_type": "code",
      "metadata": {
        "colab": {
          "base_uri": "https://localhost:8080/"
        },
        "id": "1iTUsHdYVhFr",
        "outputId": "3fc6cc4e-34e3-4e28-8dcf-85cd3bba8736"
      },
      "source": [
        "data_raw.info(memory_usage=\"deep\")"
      ],
      "execution_count": 7,
      "outputs": [
        {
          "output_type": "stream",
          "text": [
            "<class 'pandas.core.frame.DataFrame'>\n",
            "RangeIndex: 5110 entries, 0 to 5109\n",
            "Data columns (total 12 columns):\n",
            " #   Column             Non-Null Count  Dtype  \n",
            "---  ------             --------------  -----  \n",
            " 0   id                 5110 non-null   int64  \n",
            " 1   gender             5110 non-null   object \n",
            " 2   age                5110 non-null   float64\n",
            " 3   hypertension       5110 non-null   int64  \n",
            " 4   heart_disease      5110 non-null   int64  \n",
            " 5   ever_married       5110 non-null   object \n",
            " 6   work_type          5110 non-null   object \n",
            " 7   Residence_type     5110 non-null   object \n",
            " 8   avg_glucose_level  5110 non-null   float64\n",
            " 9   bmi                4909 non-null   float64\n",
            " 10  smoking_status     5110 non-null   object \n",
            " 11  stroke             5110 non-null   int64  \n",
            "dtypes: float64(3), int64(4), object(5)\n",
            "memory usage: 1.8 MB\n"
          ],
          "name": "stdout"
        }
      ]
    },
    {
      "cell_type": "markdown",
      "metadata": {
        "id": "f71dvasfay0d"
      },
      "source": [
        "###Descrizione delle feature\n",
        "Il DataFrame creato presenta le seguenti feature:\n",
        "- **`gender`** sesso dell'individuo\n",
        "  - **`Male`**\n",
        "  - **`Female`**\n",
        "\n",
        "- **`age`** età dell'individuo\n",
        "\n",
        "- **`hypertension`** indica se il paziente soffre di ipertensione\n",
        "  - 0: caso negativo\n",
        "  - 1: caso affermativo\n",
        "\n",
        "- **`heart_disease`** indica la presenza di malattie cardiache\n",
        "  - 0: nessuna malattia\n",
        "  - 1: ha almeno una malattia cardiaca\n",
        "\n",
        "- **`ever_married`** se l'individuo si è mai sposato\n",
        "\n",
        "- **`work_type`** indica il tipo di lavoro dell'individuo\n",
        "  - **`children`**\n",
        "  - **`Govt_jov`**\n",
        "  - **`Never_worked`**\n",
        "  - **`Private`**\n",
        "  - **`Self-employed`**\n",
        "\n",
        "- **`Residence_type`** indica il tipo di abitazione dell'individuo\n",
        "  - **`Rural`**\n",
        "  - **`Urban`**\n",
        " \n",
        "- **`avg_glucose_level`** livello medio di glucosio nel sangue\n",
        "\n",
        "- **`bmi`** indice di massa corporea\n",
        "\n",
        "- **`smoking_status`** indica se l'individuo è un fumatore\n",
        "  - **`formerly smoked`**: precedentemente fumatore\n",
        "  - **`never smoked`**: non ha mai fumato\n",
        "  - **`smokes`**: fumatore\n",
        "  - **`Unknown`**: non noto\n",
        "\n",
        "- **`stroke`** indica se l'individuo ha già avuto un colpo apoplettico\n",
        "  - 0 = caso negativo\n",
        "  - 1 = caso positivo\n"
      ]
    },
    {
      "cell_type": "markdown",
      "metadata": {
        "id": "0QrMAb1BpuLL"
      },
      "source": [
        "Possiamo notare come tutte le feature categoriche presenti nel DataFrame siano memorizzate con tipo `Object`. Procediamo quindi a convertire le seguenti feature nel tipo categorico:"
      ]
    },
    {
      "cell_type": "code",
      "metadata": {
        "colab": {
          "base_uri": "https://localhost:8080/"
        },
        "id": "gEdRRvdwu1K3",
        "outputId": "bb9418e4-4fe2-4daa-b599-f1bd1342fa8e"
      },
      "source": [
        "categorical = [\"smoking_status\", \"Residence_type\", \"gender\",];\n",
        "data = pd.read_csv(file_csv_name, dtype={x:\"category\" for x in categorical});\n",
        "data.info(memory_usage=\"deep\")"
      ],
      "execution_count": 8,
      "outputs": [
        {
          "output_type": "stream",
          "text": [
            "<class 'pandas.core.frame.DataFrame'>\n",
            "RangeIndex: 5110 entries, 0 to 5109\n",
            "Data columns (total 12 columns):\n",
            " #   Column             Non-Null Count  Dtype   \n",
            "---  ------             --------------  -----   \n",
            " 0   id                 5110 non-null   int64   \n",
            " 1   gender             5110 non-null   category\n",
            " 2   age                5110 non-null   float64 \n",
            " 3   hypertension       5110 non-null   int64   \n",
            " 4   heart_disease      5110 non-null   int64   \n",
            " 5   ever_married       5110 non-null   object  \n",
            " 6   work_type          5110 non-null   object  \n",
            " 7   Residence_type     5110 non-null   category\n",
            " 8   avg_glucose_level  5110 non-null   float64 \n",
            " 9   bmi                4909 non-null   float64 \n",
            " 10  smoking_status     5110 non-null   category\n",
            " 11  stroke             5110 non-null   int64   \n",
            "dtypes: category(3), float64(3), int64(4), object(2)\n",
            "memory usage: 918.7 KB\n"
          ],
          "name": "stdout"
        }
      ]
    },
    {
      "cell_type": "markdown",
      "metadata": {
        "id": "yKecTQXq2FOs"
      },
      "source": [
        "Si può notare come tale conversione comporti un uso di memoria quasi dimezzato.\n"
      ]
    },
    {
      "cell_type": "markdown",
      "metadata": {
        "id": "gtcuvJM-2TIT"
      },
      "source": [
        "Procediamo ora alla rimozione della colonna degli `id` non rilevanti nello sviluppo del nostro modello, in modo tale da risparmiare ulteriormente lo spazio a nostra disposizione."
      ]
    },
    {
      "cell_type": "code",
      "metadata": {
        "id": "_rKm_miU1oTf"
      },
      "source": [
        "data.drop(columns=[\"id\"], inplace=True)"
      ],
      "execution_count": 9,
      "outputs": []
    },
    {
      "cell_type": "markdown",
      "metadata": {
        "id": "n-xCVwHXHeG6"
      },
      "source": [
        "###Analisi generale dei dati\n",
        "Studiamo adesso le caratteristiche dei dati in nostro possesso per meglio comprendere le caratteristiche del dominio applicativo in questione"
      ]
    },
    {
      "cell_type": "code",
      "metadata": {
        "colab": {
          "base_uri": "https://localhost:8080/",
          "height": 297
        },
        "id": "dRrbzM85IV2F",
        "outputId": "6e1744e3-93ac-48bd-ee34-1c080a1b3f0b"
      },
      "source": [
        "data.describe()"
      ],
      "execution_count": 10,
      "outputs": [
        {
          "output_type": "execute_result",
          "data": {
            "text/html": [
              "<div>\n",
              "<style scoped>\n",
              "    .dataframe tbody tr th:only-of-type {\n",
              "        vertical-align: middle;\n",
              "    }\n",
              "\n",
              "    .dataframe tbody tr th {\n",
              "        vertical-align: top;\n",
              "    }\n",
              "\n",
              "    .dataframe thead th {\n",
              "        text-align: right;\n",
              "    }\n",
              "</style>\n",
              "<table border=\"1\" class=\"dataframe\">\n",
              "  <thead>\n",
              "    <tr style=\"text-align: right;\">\n",
              "      <th></th>\n",
              "      <th>age</th>\n",
              "      <th>hypertension</th>\n",
              "      <th>heart_disease</th>\n",
              "      <th>avg_glucose_level</th>\n",
              "      <th>bmi</th>\n",
              "      <th>stroke</th>\n",
              "    </tr>\n",
              "  </thead>\n",
              "  <tbody>\n",
              "    <tr>\n",
              "      <th>count</th>\n",
              "      <td>5110.000000</td>\n",
              "      <td>5110.000000</td>\n",
              "      <td>5110.000000</td>\n",
              "      <td>5110.000000</td>\n",
              "      <td>4909.000000</td>\n",
              "      <td>5110.000000</td>\n",
              "    </tr>\n",
              "    <tr>\n",
              "      <th>mean</th>\n",
              "      <td>43.226614</td>\n",
              "      <td>0.097456</td>\n",
              "      <td>0.054012</td>\n",
              "      <td>106.147677</td>\n",
              "      <td>28.893237</td>\n",
              "      <td>0.048728</td>\n",
              "    </tr>\n",
              "    <tr>\n",
              "      <th>std</th>\n",
              "      <td>22.612647</td>\n",
              "      <td>0.296607</td>\n",
              "      <td>0.226063</td>\n",
              "      <td>45.283560</td>\n",
              "      <td>7.854067</td>\n",
              "      <td>0.215320</td>\n",
              "    </tr>\n",
              "    <tr>\n",
              "      <th>min</th>\n",
              "      <td>0.080000</td>\n",
              "      <td>0.000000</td>\n",
              "      <td>0.000000</td>\n",
              "      <td>55.120000</td>\n",
              "      <td>10.300000</td>\n",
              "      <td>0.000000</td>\n",
              "    </tr>\n",
              "    <tr>\n",
              "      <th>25%</th>\n",
              "      <td>25.000000</td>\n",
              "      <td>0.000000</td>\n",
              "      <td>0.000000</td>\n",
              "      <td>77.245000</td>\n",
              "      <td>23.500000</td>\n",
              "      <td>0.000000</td>\n",
              "    </tr>\n",
              "    <tr>\n",
              "      <th>50%</th>\n",
              "      <td>45.000000</td>\n",
              "      <td>0.000000</td>\n",
              "      <td>0.000000</td>\n",
              "      <td>91.885000</td>\n",
              "      <td>28.100000</td>\n",
              "      <td>0.000000</td>\n",
              "    </tr>\n",
              "    <tr>\n",
              "      <th>75%</th>\n",
              "      <td>61.000000</td>\n",
              "      <td>0.000000</td>\n",
              "      <td>0.000000</td>\n",
              "      <td>114.090000</td>\n",
              "      <td>33.100000</td>\n",
              "      <td>0.000000</td>\n",
              "    </tr>\n",
              "    <tr>\n",
              "      <th>max</th>\n",
              "      <td>82.000000</td>\n",
              "      <td>1.000000</td>\n",
              "      <td>1.000000</td>\n",
              "      <td>271.740000</td>\n",
              "      <td>97.600000</td>\n",
              "      <td>1.000000</td>\n",
              "    </tr>\n",
              "  </tbody>\n",
              "</table>\n",
              "</div>"
            ],
            "text/plain": [
              "               age  hypertension  ...          bmi       stroke\n",
              "count  5110.000000   5110.000000  ...  4909.000000  5110.000000\n",
              "mean     43.226614      0.097456  ...    28.893237     0.048728\n",
              "std      22.612647      0.296607  ...     7.854067     0.215320\n",
              "min       0.080000      0.000000  ...    10.300000     0.000000\n",
              "25%      25.000000      0.000000  ...    23.500000     0.000000\n",
              "50%      45.000000      0.000000  ...    28.100000     0.000000\n",
              "75%      61.000000      0.000000  ...    33.100000     0.000000\n",
              "max      82.000000      1.000000  ...    97.600000     1.000000\n",
              "\n",
              "[8 rows x 6 columns]"
            ]
          },
          "metadata": {
            "tags": []
          },
          "execution_count": 10
        }
      ]
    },
    {
      "cell_type": "markdown",
      "metadata": {
        "id": "x57d-FnLIgRW"
      },
      "source": [
        "Si può notare come solamente un terzo delle righe sia già stato soggetto a colpi apoplettici (per essere precisi gli individui che rientrano nella fascia di età più alta) comportando un forte sbilanciamento delle classi, che andrà necessariamente compensato più avanti per non ridurre l'accuratezza del modello.\n",
        "Tutto ciò è reso ancora più palese rappresentando la distribuzione di diagnosi negative e diagnosi positive in un grafico a torta."
      ]
    },
    {
      "cell_type": "code",
      "metadata": {
        "colab": {
          "base_uri": "https://localhost:8080/",
          "height": 248
        },
        "id": "G06Fzt4feKdp",
        "outputId": "ec7c5587-83ad-44ba-f24e-fb1e54d7f475"
      },
      "source": [
        "data.stroke.value_counts().plot.pie(autopct=\"%.1f%%\");"
      ],
      "execution_count": 11,
      "outputs": [
        {
          "output_type": "display_data",
          "data": {
            "image/png": "[encoded data removed]",
            "text/plain": [
              "<Figure size 432x288 with 1 Axes>"
            ]
          },
          "metadata": {
            "tags": []
          }
        }
      ]
    },
    {
      "cell_type": "markdown",
      "metadata": {
        "id": "BtoXh-_hRYvJ"
      },
      "source": [
        "Studiamo ora la distribuzione delle feature principali rappresentandole per via grafica."
      ]
    },
    {
      "cell_type": "markdown",
      "metadata": {
        "id": "iopnFPP21J5a"
      },
      "source": [
        "Rappresentiamo inizialmente in che modo malattie cardiache e ipertensione siano collegate alla possibilità di colpi apoplettici:"
      ]
    },
    {
      "cell_type": "code",
      "metadata": {
        "colab": {
          "base_uri": "https://localhost:8080/",
          "height": 265
        },
        "id": "ZU40FpZmRf_q",
        "outputId": "297e4bcb-349e-402e-aa22-c8623298a8a3"
      },
      "source": [
        "data.age.plot.hist(bins=40);"
      ],
      "execution_count": 12,
      "outputs": [
        {
          "output_type": "display_data",
          "data": {
            "image/png": "[encoded data removed]",
            "text/plain": [
              "<Figure size 432x288 with 1 Axes>"
            ]
          },
          "metadata": {
            "tags": [],
            "needs_background": "light"
          }
        }
      ]
    },
    {
      "cell_type": "code",
      "metadata": {
        "colab": {
          "base_uri": "https://localhost:8080/"
        },
        "id": "Filn1xpUCTLV",
        "outputId": "9e30abed-4308-466a-c3bd-b78e96e2bd4a"
      },
      "source": [
        "data[\"age\"].describe()"
      ],
      "execution_count": 13,
      "outputs": [
        {
          "output_type": "execute_result",
          "data": {
            "text/plain": [
              "count    5110.000000\n",
              "mean       43.226614\n",
              "std        22.612647\n",
              "min         0.080000\n",
              "25%        25.000000\n",
              "50%        45.000000\n",
              "75%        61.000000\n",
              "max        82.000000\n",
              "Name: age, dtype: float64"
            ]
          },
          "metadata": {
            "tags": []
          },
          "execution_count": 13
        }
      ]
    },
    {
      "cell_type": "markdown",
      "metadata": {
        "id": "KySRoB34aUKc"
      },
      "source": [
        "La distribuzione delle età degli individui sotto osservazione risulta abbastanza omogenea come si può notare dal grafico e dalla deviazione standard non troppo elevata."
      ]
    },
    {
      "cell_type": "markdown",
      "metadata": {
        "id": "1LlgRijkC7NX"
      },
      "source": [
        "Confrontiamo ora il sesso degli individui sotto esame:"
      ]
    },
    {
      "cell_type": "code",
      "metadata": {
        "colab": {
          "base_uri": "https://localhost:8080/",
          "height": 264
        },
        "id": "xE3_vIdiDBfd",
        "outputId": "af7137cb-4ab1-409d-e8d8-d00985ae2e94"
      },
      "source": [
        "data.gender.value_counts().plot.pie(autopct=\"%.1f%%\", colors= [\"pink\", \"skyblue\"]);\n",
        "plt.title(\"Distribuzione sesso degli individui\");\n",
        "plt.ylabel(\"\");"
      ],
      "execution_count": 14,
      "outputs": [
        {
          "output_type": "display_data",
          "data": {
            "image/png": "[encoded data removed]",
            "text/plain": [
              "<Figure size 432x288 with 1 Axes>"
            ]
          },
          "metadata": {
            "tags": []
          }
        }
      ]
    },
    {
      "cell_type": "code",
      "metadata": {
        "colab": {
          "base_uri": "https://localhost:8080/"
        },
        "id": "J4He0XanE61D",
        "outputId": "aaacd719-333e-4787-ed72-db3bbc90eab2"
      },
      "source": [
        "data.gender.value_counts()"
      ],
      "execution_count": 15,
      "outputs": [
        {
          "output_type": "execute_result",
          "data": {
            "text/plain": [
              "Female    2994\n",
              "Male      2115\n",
              "Other        1\n",
              "Name: gender, dtype: int64"
            ]
          },
          "metadata": {
            "tags": []
          },
          "execution_count": 15
        }
      ]
    },
    {
      "cell_type": "markdown",
      "metadata": {
        "id": "OAlhRCSADWt-"
      },
      "source": [
        "Come si può notare la maggior parte degli individui sotto esame sono di sesso femminile. Notiamo anche la presenza di una terza categoria `Other` che in questo caso risulta poco significativa in quanto rappresentata da un'unica istanza."
      ]
    },
    {
      "cell_type": "markdown",
      "metadata": {
        "id": "ua-kLjtsFCJz"
      },
      "source": [
        "Approfondiamo  visualizzando l'incidenza di ictus sui vari generi"
      ]
    },
    {
      "cell_type": "code",
      "metadata": {
        "colab": {
          "base_uri": "https://localhost:8080/",
          "height": 301
        },
        "id": "RS6hChl6D3_G",
        "outputId": "e46e5eb0-b9bc-42f1-e06a-971ffd06043b"
      },
      "source": [
        "sns.set_theme(style=\"whitegrid\")\n",
        "plt.title(\"Incidenza di ictus a confronto con il sesso dell'individuo\")\n",
        "sns.barplot(x=\"gender\", y=\"stroke\", data=data);"
      ],
      "execution_count": 16,
      "outputs": [
        {
          "output_type": "display_data",
          "data": {
            "image/png": "[encoded data removed]",
            "text/plain": [
              "<Figure size 432x288 with 1 Axes>"
            ]
          },
          "metadata": {
            "tags": []
          }
        }
      ]
    },
    {
      "cell_type": "markdown",
      "metadata": {
        "id": "xrsoI0-yxQ2w"
      },
      "source": [
        "Negli uomini l'incidenza di colpi apoplettici risulta maggiore rispetto alle donne. Si nota anche la presenza di un terzo valore `Other` con cardinalità molto bassa. Procediamo a rimuoverlo:"
      ]
    },
    {
      "cell_type": "code",
      "metadata": {
        "id": "E4GqDkqExsnq"
      },
      "source": [
        "data = data[data.gender != \"Other\"]"
      ],
      "execution_count": 17,
      "outputs": []
    },
    {
      "cell_type": "code",
      "metadata": {
        "colab": {
          "base_uri": "https://localhost:8080/",
          "height": 301
        },
        "id": "6HvOwWRVZ1zz",
        "outputId": "01d9ed8c-3b6c-4f50-9d8c-2c6756655675"
      },
      "source": [
        "data.avg_glucose_level.plot.hist(bins=40, color=\"coral\");\n",
        "plt.title(\"Distribuzione glicemia negli individui sotto osservazione\")\n",
        "plt.xlabel(\"Avg Glucose\");"
      ],
      "execution_count": 18,
      "outputs": [
        {
          "output_type": "display_data",
          "data": {
            "image/png": "[encoded data removed]",
            "text/plain": [
              "<Figure size 432x288 with 1 Axes>"
            ]
          },
          "metadata": {
            "tags": []
          }
        }
      ]
    },
    {
      "cell_type": "code",
      "metadata": {
        "colab": {
          "base_uri": "https://localhost:8080/"
        },
        "id": "BCAdPTqveBmL",
        "outputId": "d71ca1d3-a0a9-463a-b03e-ed2582e85f95"
      },
      "source": [
        "data.avg_glucose_level.std()/data.avg_glucose_level.mean()"
      ],
      "execution_count": 19,
      "outputs": [
        {
          "output_type": "execute_result",
          "data": {
            "text/plain": [
              "0.4266519060260945"
            ]
          },
          "metadata": {
            "tags": []
          },
          "execution_count": 19
        }
      ]
    },
    {
      "cell_type": "markdown",
      "metadata": {
        "id": "3z6DRdgTapJP"
      },
      "source": [
        "La maggior parte degli individui in questione presenta un tasso di glicemia ordinario (ovvero compreso nell'intervallo tra i 70 e i 100 mg/dL) anche se la deviazione standard normalizzata non è indifferente in quanto ammonta circa a 0.42. \n"
      ]
    },
    {
      "cell_type": "markdown",
      "metadata": {
        "id": "MGwRVfWHI9el"
      },
      "source": [
        "Procediamo rappresentando come si correli il matrimonio all'incidenza di ictus:"
      ]
    },
    {
      "cell_type": "code",
      "metadata": {
        "colab": {
          "base_uri": "https://localhost:8080/",
          "height": 285
        },
        "id": "8dMCbvwToKL5",
        "outputId": "2f23f504-d7e6-48c4-ea19-dd13f4d52bca"
      },
      "source": [
        "sns.barplot(x=\"ever_married\", y=\"stroke\", data=data);"
      ],
      "execution_count": 20,
      "outputs": [
        {
          "output_type": "display_data",
          "data": {
            "image/png": "[encoded data removed]",
            "text/plain": [
              "<Figure size 432x288 with 1 Axes>"
            ]
          },
          "metadata": {
            "tags": []
          }
        }
      ]
    },
    {
      "cell_type": "markdown",
      "metadata": {
        "id": "1HXM6sQsJjCn"
      },
      "source": [
        "Il grafico sembra suggerire che gli individui che si sono sposati siano maggiormente propensi a colpi apoplettici, tuttavia ciò non risulta vero in quanto gli individui sposati sono statisticamente più rappresentati rispetto agli scapoli:"
      ]
    },
    {
      "cell_type": "code",
      "metadata": {
        "colab": {
          "base_uri": "https://localhost:8080/",
          "height": 264
        },
        "id": "HEgAieRqKV3k",
        "outputId": "c103d278-263f-42e7-9432-8f0a0ff95c99"
      },
      "source": [
        "data.ever_married.value_counts().plot.pie(autopct=\"%.1f%%\", colors= [\"orange\", \"yellow\"]);\n",
        "plt.title(\"Distribuzione individui sposati e non\");"
      ],
      "execution_count": 21,
      "outputs": [
        {
          "output_type": "display_data",
          "data": {
            "image/png": "[encoded data removed]",
            "text/plain": [
              "<Figure size 432x288 with 1 Axes>"
            ]
          },
          "metadata": {
            "tags": []
          }
        }
      ]
    },
    {
      "cell_type": "markdown",
      "metadata": {
        "id": "AfHbNKxkKmKd"
      },
      "source": [
        "Inoltre come viene citato nel seguente articolo https://www.reuters.com/article/us-health-marriage-idUSKBN1JE2XG , \"People who are married may be less likely to develop cardiovascular disease or die from a heart attack or stroke than individuals who aren't, a research review suggests\".\n",
        "\n",
        "Questo suggerisce che lo sbilanciamento dei dati di questa feature sia appunto potenzialmente dannoso per l'accuratezza del nostro modello. Conviene quindi eliminarla dal Dataframe:"
      ]
    },
    {
      "cell_type": "code",
      "metadata": {
        "id": "72u1zgD0LYyb"
      },
      "source": [
        "data.drop(columns=[\"ever_married\"], inplace=True)"
      ],
      "execution_count": 22,
      "outputs": []
    },
    {
      "cell_type": "markdown",
      "metadata": {
        "id": "SCYo4TTsCnsJ"
      },
      "source": [
        "Elaboriamo adesso i dati inerenti il BMI (o *Body Mass Index*):"
      ]
    },
    {
      "cell_type": "code",
      "metadata": {
        "colab": {
          "base_uri": "https://localhost:8080/",
          "height": 301
        },
        "id": "nJLdRA8Ndgxu",
        "outputId": "9daf9f49-2f07-458c-8187-67c9edbd30be"
      },
      "source": [
        "data.bmi.plot.hist(bins=40, color=\"darkorange\");\n",
        "plt.title(\"Distribuzione BMI negli individui sotto osservazione\")\n",
        "plt.xlabel(\"BMI\");"
      ],
      "execution_count": 23,
      "outputs": [
        {
          "output_type": "display_data",
          "data": {
            "image/png": "[encoded data removed]",
            "text/plain": [
              "<Figure size 432x288 with 1 Axes>"
            ]
          },
          "metadata": {
            "tags": []
          }
        }
      ]
    },
    {
      "cell_type": "markdown",
      "metadata": {
        "id": "I6kmZWM5exi3"
      },
      "source": [
        "L'indice di massa corporea come si nota presenta una deviazione standard molto bassa in quanto la maggior parte degli individui presenta valori nell'intervallo tra `20` e `40`, dove `18.5-24,99` è la fascia in cui rientrano gli individui normopeso, mentre oltre questa fascia vi sono gli individui sovrappeso e obesi."
      ]
    },
    {
      "cell_type": "markdown",
      "metadata": {
        "id": "xy2i80Af32Nv"
      },
      "source": [
        "Rappresentazione tramite barplot di `Residence_Type` \n",
        "a confronto con `stroke`"
      ]
    },
    {
      "cell_type": "code",
      "metadata": {
        "colab": {
          "base_uri": "https://localhost:8080/",
          "height": 301
        },
        "id": "B8wHrQWX4I5K",
        "outputId": "be5a6721-b3f4-46a3-ee1f-83353fa679d8"
      },
      "source": [
        "sns.set_theme(style=\"whitegrid\")\n",
        "plt.title(\"Correlazione tra tipo di residenza e incidenza di ictus\")\n",
        "sns.barplot(x=\"Residence_type\", y=\"stroke\", data=data);"
      ],
      "execution_count": 24,
      "outputs": [
        {
          "output_type": "display_data",
          "data": {
            "image/png": "[encoded data removed]",
            "text/plain": [
              "<Figure size 432x288 with 1 Axes>"
            ]
          },
          "metadata": {
            "tags": []
          }
        }
      ]
    },
    {
      "cell_type": "markdown",
      "metadata": {
        "id": "h77pkA5g5DXH"
      },
      "source": [
        "Possiamo notare come i soggetti con residenza urbana siano statisticamente leggermente più soggetti alla possibilità di colpi apoplettici. Appare quindi che questa feature non sia indicativa nel rilevare la possibilità di ictus.\n",
        "\n",
        "Mostriamo ora la correlazione che `hypertension` e `heart_disease` hanno con l'incidenza di ictus e come si correlano tra di loro:"
      ]
    },
    {
      "cell_type": "code",
      "metadata": {
        "colab": {
          "base_uri": "https://localhost:8080/",
          "height": 338
        },
        "id": "g4Y_t5sqz065",
        "outputId": "641e90a6-c8fe-4e0d-a452-55cd67458d5b"
      },
      "source": [
        "plt.figure(figsize=(10, 5))\n",
        "\n",
        "sns.lineplot(x=\"heart_disease\", y=\"stroke\", label=\"heart_disease\", data=data);\n",
        "plt.legend()\n",
        "\n",
        "sns.lineplot(x=\"hypertension\", y=\"stroke\", label=\"hypertension\", data=data);\n",
        "plt.legend()\n",
        "plt.title(\"Incidenza di ictus in individui con ipertensione e/o malattie cardiache\");\n",
        "plt.xlabel(\"\");"
      ],
      "execution_count": 25,
      "outputs": [
        {
          "output_type": "display_data",
          "data": {
            "image/png": "[encoded data removed]",
            "text/plain": [
              "<Figure size 720x360 with 1 Axes>"
            ]
          },
          "metadata": {
            "tags": []
          }
        }
      ]
    },
    {
      "cell_type": "markdown",
      "metadata": {
        "id": "QgrzAAjo8gGh"
      },
      "source": [
        "Dal grafico emerge ovviamente che queste sintomatologie influenzano la possibilità di colpi apoplettici (seppur non fortemente). Si palesa anche una certa correlazione tra le due feature `hypertension` e `heart_disease`. Esploreremo meglio questa correlazione in seguito usando la **regolarizzazione L1**.\n",
        "\n",
        "Esploriamo la correlazione che invece con il tipo di lavoro che gli individui svolgono:"
      ]
    },
    {
      "cell_type": "code",
      "metadata": {
        "colab": {
          "base_uri": "https://localhost:8080/",
          "height": 286
        },
        "id": "RovlmRvLC9tq",
        "outputId": "160b4489-06db-432b-d9e9-a7eaf300dc07"
      },
      "source": [
        "sns.barplot(x=\"work_type\", y=\"stroke\", data=data);"
      ],
      "execution_count": 26,
      "outputs": [
        {
          "output_type": "display_data",
          "data": {
            "image/png": "[encoded data removed]",
            "text/plain": [
              "<Figure size 432x288 with 1 Axes>"
            ]
          },
          "metadata": {
            "tags": []
          }
        }
      ]
    },
    {
      "cell_type": "markdown",
      "metadata": {
        "id": "kB4WaB70DtGA"
      },
      "source": [
        "Gli individui che non hanno mai lavorato si rivelano, sorprendentemente, i meno propensi a colpi apoplettici, addirittura con meno episodi rispetto ai bambini. Probabilmente questa feature avrà una forte correlazione inversa con quella di ictus."
      ]
    },
    {
      "cell_type": "markdown",
      "metadata": {
        "id": "dStp5c6A7F-s"
      },
      "source": [
        "Ora rappresentiamo su barplot la correlazione tra ictus e stato di fumatore:"
      ]
    },
    {
      "cell_type": "code",
      "metadata": {
        "colab": {
          "base_uri": "https://localhost:8080/",
          "height": 301
        },
        "id": "IftyPsgg5840",
        "outputId": "f8c8693a-4939-45e6-aafe-364d3710f2dc"
      },
      "source": [
        "bars = sns.barplot(x=\"smoking_status\", y=\"stroke\", data=data)\n",
        "plt.title(\"Correlazione tra fumo e incidenza di ictus\")\n",
        "bars.set_xticklabels(bars.get_xticklabels(), fontsize=10);"
      ],
      "execution_count": 27,
      "outputs": [
        {
          "output_type": "display_data",
          "data": {
            "image/png": "[encoded data removed]",
            "text/plain": [
              "<Figure size 432x288 with 1 Axes>"
            ]
          },
          "metadata": {
            "tags": []
          }
        }
      ]
    },
    {
      "cell_type": "markdown",
      "metadata": {
        "id": "yLWGov6WqGQ3"
      },
      "source": [
        "Dal grafico notiamo che gli individui che in passato erano fumatori hanno un'incidenza di colpi apoplettici di gran lunga maggiore rispetto a quella delle altre categorie in questione. Possiamo notare anche la presenza della colonna con valore `Unknown` che in questo caso risulta problematica nel corretto sviluppo del modello. Ce ne occuperemo nella fase di preparazione dei dati."
      ]
    },
    {
      "cell_type": "markdown",
      "metadata": {
        "id": "hhxX3SOj4G7L"
      },
      "source": [
        "Approfondendo lo studio dei dati, plottiamo la matrice di correlazione delle feature numeriche del Dataframe:"
      ]
    },
    {
      "cell_type": "code",
      "metadata": {
        "colab": {
          "base_uri": "https://localhost:8080/",
          "height": 358
        },
        "id": "G3h9RjeM1lzV",
        "outputId": "7788825f-7d95-408e-99f3-1478d5b7c9b4"
      },
      "source": [
        "corr = data.corr()\n",
        "mask = np.triu(np.ones_like(corr, dtype=bool))\n",
        "sns.heatmap(corr, mask=mask, annot=True, cmap=\"Reds\");"
      ],
      "execution_count": 28,
      "outputs": [
        {
          "output_type": "display_data",
          "data": {
            "image/png": "[encoded data removed]",
            "text/plain": [
              "<Figure size 432x288 with 2 Axes>"
            ]
          },
          "metadata": {
            "tags": []
          }
        }
      ]
    },
    {
      "cell_type": "markdown",
      "metadata": {
        "id": "NQigMGQP4O-P"
      },
      "source": [
        "Notiamo come `age` sia molto correlata con tutte le feature e come tra le altre feature le correlazioni siano molto basse. D'altra parte `stroke` risulta influenzata in primis da `age` e di pari passo da `hypertension`, `heart_disease` e `avg_glucose_level` . Approfondiremo lo studio su quale feature siano più rilevanti in seguito. "
      ]
    },
    {
      "cell_type": "markdown",
      "metadata": {
        "id": "7LX4xHkiAiII"
      },
      "source": [
        "##Preparazione dei dati"
      ]
    },
    {
      "cell_type": "markdown",
      "metadata": {
        "id": "hInOIDeEzOlU"
      },
      "source": [
        "###Elaborazione valori nulli"
      ]
    },
    {
      "cell_type": "markdown",
      "metadata": {
        "id": "ub2Z-ldbiKG8"
      },
      "source": [
        "Andiamo ora a elaborare i dati presenti nel Dataframe affinchè vengano individuate le feature rilevanti ed ignorate quelle irrilevanti."
      ]
    },
    {
      "cell_type": "markdown",
      "metadata": {
        "id": "4AHcW7IGN_WZ"
      },
      "source": [
        "Iniziamo andando a visualizzare le righe del Dataframe che contengono valori nulli nelle colonne di tipo numerico:"
      ]
    },
    {
      "cell_type": "code",
      "metadata": {
        "colab": {
          "base_uri": "https://localhost:8080/"
        },
        "id": "WjGkZe9GO0-4",
        "outputId": "0b01d6d0-3add-4979-c800-a3b3c5b2d739"
      },
      "source": [
        "data.shape[0]-data.count()"
      ],
      "execution_count": 29,
      "outputs": [
        {
          "output_type": "execute_result",
          "data": {
            "text/plain": [
              "gender                 0\n",
              "age                    0\n",
              "hypertension           0\n",
              "heart_disease          0\n",
              "work_type              0\n",
              "Residence_type         0\n",
              "avg_glucose_level      0\n",
              "bmi                  201\n",
              "smoking_status         0\n",
              "stroke                 0\n",
              "dtype: int64"
            ]
          },
          "metadata": {
            "tags": []
          },
          "execution_count": 29
        }
      ]
    },
    {
      "cell_type": "markdown",
      "metadata": {
        "id": "G65_6CFTtKnr"
      },
      "source": [
        "Notiamo la presenza di 201 righe con valore di `bmi` nullo. Procediamo rimuovendo queste righe:"
      ]
    },
    {
      "cell_type": "code",
      "metadata": {
        "colab": {
          "base_uri": "https://localhost:8080/"
        },
        "id": "FB-2X6kztff3",
        "outputId": "427a0406-62a2-488e-d892-dc72c6d4041d"
      },
      "source": [
        "data.dropna(inplace=True)\n",
        "data.shape[0]-data.count()"
      ],
      "execution_count": 30,
      "outputs": [
        {
          "output_type": "execute_result",
          "data": {
            "text/plain": [
              "gender               0\n",
              "age                  0\n",
              "hypertension         0\n",
              "heart_disease        0\n",
              "work_type            0\n",
              "Residence_type       0\n",
              "avg_glucose_level    0\n",
              "bmi                  0\n",
              "smoking_status       0\n",
              "stroke               0\n",
              "dtype: int64"
            ]
          },
          "metadata": {
            "tags": []
          },
          "execution_count": 30
        }
      ]
    },
    {
      "cell_type": "markdown",
      "metadata": {
        "id": "MMdsf1Uctrta"
      },
      "source": [
        "Nei dati della colonna `smoking_status` abbiamo notato la presenza dei valori `Unknown`. Andiamo a visualizzare effettivamente quanti dati presentano questo valore:\n"
      ]
    },
    {
      "cell_type": "code",
      "metadata": {
        "colab": {
          "base_uri": "https://localhost:8080/",
          "height": 0
        },
        "id": "rbUWwzBAuTbV",
        "outputId": "dd557070-e035-43bf-9225-40c229abfa1b"
      },
      "source": [
        "data.smoking_status.value_counts().plot.pie(autopct=\"%.1f%%\");\n",
        "plt.title(\"Distribuzione individui fumatori e non\");\n",
        "plt.ylabel(\"\");"
      ],
      "execution_count": 31,
      "outputs": [
        {
          "output_type": "display_data",
          "data": {
            "image/png": "[encoded data removed]",
            "text/plain": [
              "<Figure size 432x288 with 1 Axes>"
            ]
          },
          "metadata": {
            "tags": []
          }
        }
      ]
    },
    {
      "cell_type": "markdown",
      "metadata": {
        "id": "Z5fqYrXPuf0j"
      },
      "source": [
        "La colonna `Unknown` copre il `30.2%` delle istanze ed essendo questo valore non deducibile da altre colonne, conviene eliminare le righe con questo valore."
      ]
    },
    {
      "cell_type": "code",
      "metadata": {
        "id": "tS-ADix4wlwe"
      },
      "source": [
        "data = data[data.smoking_status != \"Unknown\"]"
      ],
      "execution_count": 32,
      "outputs": []
    },
    {
      "cell_type": "code",
      "metadata": {
        "colab": {
          "base_uri": "https://localhost:8080/",
          "height": 0
        },
        "id": "3f-OpvVfw-eV",
        "outputId": "7706487a-0b1e-4c52-ad8d-4e57d855cc96"
      },
      "source": [
        "data.smoking_status.value_counts().plot.pie(autopct=\"%.1f%%\");\n",
        "plt.title(\"Distribuzione individui fumatori e non\");\n",
        "plt.ylabel(\"\");"
      ],
      "execution_count": 33,
      "outputs": [
        {
          "output_type": "display_data",
          "data": {
            "image/png": "[encoded data removed]",
            "text/plain": [
              "<Figure size 432x288 with 1 Axes>"
            ]
          },
          "metadata": {
            "tags": []
          }
        }
      ]
    },
    {
      "cell_type": "markdown",
      "metadata": {
        "id": "RaxUJRhpzTFf"
      },
      "source": [
        "###Binarizzazione"
      ]
    },
    {
      "cell_type": "markdown",
      "metadata": {
        "id": "Eqb07ROAzXA6"
      },
      "source": [
        "Attualmente nel Dataframe attuale ci sono 4 variabili categoriche:\n",
        "-   `gender`\n",
        "-   `work_type`\n",
        "- `Residence_type`\n",
        "- `smoking_status`\n"
      ]
    },
    {
      "cell_type": "markdown",
      "metadata": {
        "id": "fU2ktAaS3GfO"
      },
      "source": [
        "Affinchè esse siano utilizzabili nel nostro modello è necessario che vengano mappate usando delle variabili binarie. Usiamo la funzione di binarizzazione \n",
        "`get_dummies()`:"
      ]
    },
    {
      "cell_type": "code",
      "metadata": {
        "id": "PTAHoPNA49Xn"
      },
      "source": [
        "data = pd.get_dummies(data, columns=[\"gender\", \"work_type\", \"Residence_type\", \"smoking_status\"], prefix=[\"gender\", \"work\", \"Residence\", \"smoking\"])"
      ],
      "execution_count": 34,
      "outputs": []
    },
    {
      "cell_type": "code",
      "metadata": {
        "colab": {
          "base_uri": "https://localhost:8080/",
          "height": 0
        },
        "id": "BfxrQb1R6ln6",
        "outputId": "2898c0f4-cfd0-45ad-fd51-30ac5d7caa06"
      },
      "source": [
        "data.head()"
      ],
      "execution_count": 35,
      "outputs": [
        {
          "output_type": "execute_result",
          "data": {
            "text/html": [
              "<div>\n",
              "<style scoped>\n",
              "    .dataframe tbody tr th:only-of-type {\n",
              "        vertical-align: middle;\n",
              "    }\n",
              "\n",
              "    .dataframe tbody tr th {\n",
              "        vertical-align: top;\n",
              "    }\n",
              "\n",
              "    .dataframe thead th {\n",
              "        text-align: right;\n",
              "    }\n",
              "</style>\n",
              "<table border=\"1\" class=\"dataframe\">\n",
              "  <thead>\n",
              "    <tr style=\"text-align: right;\">\n",
              "      <th></th>\n",
              "      <th>age</th>\n",
              "      <th>hypertension</th>\n",
              "      <th>heart_disease</th>\n",
              "      <th>avg_glucose_level</th>\n",
              "      <th>bmi</th>\n",
              "      <th>stroke</th>\n",
              "      <th>gender_Female</th>\n",
              "      <th>gender_Male</th>\n",
              "      <th>gender_Other</th>\n",
              "      <th>work_Govt_job</th>\n",
              "      <th>work_Never_worked</th>\n",
              "      <th>work_Private</th>\n",
              "      <th>work_Self-employed</th>\n",
              "      <th>work_children</th>\n",
              "      <th>Residence_Rural</th>\n",
              "      <th>Residence_Urban</th>\n",
              "      <th>smoking_Unknown</th>\n",
              "      <th>smoking_formerly smoked</th>\n",
              "      <th>smoking_never smoked</th>\n",
              "      <th>smoking_smokes</th>\n",
              "    </tr>\n",
              "  </thead>\n",
              "  <tbody>\n",
              "    <tr>\n",
              "      <th>0</th>\n",
              "      <td>67.0</td>\n",
              "      <td>0</td>\n",
              "      <td>1</td>\n",
              "      <td>228.69</td>\n",
              "      <td>36.6</td>\n",
              "      <td>1</td>\n",
              "      <td>0</td>\n",
              "      <td>1</td>\n",
              "      <td>0</td>\n",
              "      <td>0</td>\n",
              "      <td>0</td>\n",
              "      <td>1</td>\n",
              "      <td>0</td>\n",
              "      <td>0</td>\n",
              "      <td>0</td>\n",
              "      <td>1</td>\n",
              "      <td>0</td>\n",
              "      <td>1</td>\n",
              "      <td>0</td>\n",
              "      <td>0</td>\n",
              "    </tr>\n",
              "    <tr>\n",
              "      <th>2</th>\n",
              "      <td>80.0</td>\n",
              "      <td>0</td>\n",
              "      <td>1</td>\n",
              "      <td>105.92</td>\n",
              "      <td>32.5</td>\n",
              "      <td>1</td>\n",
              "      <td>0</td>\n",
              "      <td>1</td>\n",
              "      <td>0</td>\n",
              "      <td>0</td>\n",
              "      <td>0</td>\n",
              "      <td>1</td>\n",
              "      <td>0</td>\n",
              "      <td>0</td>\n",
              "      <td>1</td>\n",
              "      <td>0</td>\n",
              "      <td>0</td>\n",
              "      <td>0</td>\n",
              "      <td>1</td>\n",
              "      <td>0</td>\n",
              "    </tr>\n",
              "    <tr>\n",
              "      <th>3</th>\n",
              "      <td>49.0</td>\n",
              "      <td>0</td>\n",
              "      <td>0</td>\n",
              "      <td>171.23</td>\n",
              "      <td>34.4</td>\n",
              "      <td>1</td>\n",
              "      <td>1</td>\n",
              "      <td>0</td>\n",
              "      <td>0</td>\n",
              "      <td>0</td>\n",
              "      <td>0</td>\n",
              "      <td>1</td>\n",
              "      <td>0</td>\n",
              "      <td>0</td>\n",
              "      <td>0</td>\n",
              "      <td>1</td>\n",
              "      <td>0</td>\n",
              "      <td>0</td>\n",
              "      <td>0</td>\n",
              "      <td>1</td>\n",
              "    </tr>\n",
              "    <tr>\n",
              "      <th>4</th>\n",
              "      <td>79.0</td>\n",
              "      <td>1</td>\n",
              "      <td>0</td>\n",
              "      <td>174.12</td>\n",
              "      <td>24.0</td>\n",
              "      <td>1</td>\n",
              "      <td>1</td>\n",
              "      <td>0</td>\n",
              "      <td>0</td>\n",
              "      <td>0</td>\n",
              "      <td>0</td>\n",
              "      <td>0</td>\n",
              "      <td>1</td>\n",
              "      <td>0</td>\n",
              "      <td>1</td>\n",
              "      <td>0</td>\n",
              "      <td>0</td>\n",
              "      <td>0</td>\n",
              "      <td>1</td>\n",
              "      <td>0</td>\n",
              "    </tr>\n",
              "    <tr>\n",
              "      <th>5</th>\n",
              "      <td>81.0</td>\n",
              "      <td>0</td>\n",
              "      <td>0</td>\n",
              "      <td>186.21</td>\n",
              "      <td>29.0</td>\n",
              "      <td>1</td>\n",
              "      <td>0</td>\n",
              "      <td>1</td>\n",
              "      <td>0</td>\n",
              "      <td>0</td>\n",
              "      <td>0</td>\n",
              "      <td>1</td>\n",
              "      <td>0</td>\n",
              "      <td>0</td>\n",
              "      <td>0</td>\n",
              "      <td>1</td>\n",
              "      <td>0</td>\n",
              "      <td>1</td>\n",
              "      <td>0</td>\n",
              "      <td>0</td>\n",
              "    </tr>\n",
              "  </tbody>\n",
              "</table>\n",
              "</div>"
            ],
            "text/plain": [
              "    age  hypertension  ...  smoking_never smoked  smoking_smokes\n",
              "0  67.0             0  ...                     0               0\n",
              "2  80.0             0  ...                     1               0\n",
              "3  49.0             0  ...                     0               1\n",
              "4  79.0             1  ...                     1               0\n",
              "5  81.0             0  ...                     0               0\n",
              "\n",
              "[5 rows x 20 columns]"
            ]
          },
          "metadata": {
            "tags": []
          },
          "execution_count": 35
        }
      ]
    },
    {
      "cell_type": "markdown",
      "metadata": {
        "id": "WNrLijfX6BlZ"
      },
      "source": [
        "Procediamo rimuovendo le colonne associate ai valori non più presenti all'interno del Dataframe (`Other` e `Unknown`): "
      ]
    },
    {
      "cell_type": "code",
      "metadata": {
        "id": "R0ZEyKH66SCt"
      },
      "source": [
        "data.drop(columns=[\"gender_Other\", \"smoking_Unknown\"], inplace=True)"
      ],
      "execution_count": 36,
      "outputs": []
    },
    {
      "cell_type": "markdown",
      "metadata": {
        "id": "NMjSYxHX8oCl"
      },
      "source": [
        "Il modello si presenta ora pronto alla fase successiva di preparazione."
      ]
    },
    {
      "cell_type": "markdown",
      "metadata": {
        "id": "6ZVlkx3H8uSU"
      },
      "source": [
        "##Preparazione del modello"
      ]
    },
    {
      "cell_type": "markdown",
      "metadata": {
        "id": "9A3VyoXEB5DX"
      },
      "source": [
        "###Standardizzazione, regolarizzazione e studio feature più importanti\n",
        "\n"
      ]
    },
    {
      "cell_type": "markdown",
      "metadata": {
        "id": "6x5xed9yCkDv"
      },
      "source": [
        "Iniziamo importando le librerie necessarie:"
      ]
    },
    {
      "cell_type": "code",
      "metadata": {
        "id": "A2Eo6GNdwq-w"
      },
      "source": [
        "from sklearn.model_selection import train_test_split\n",
        "from sklearn.metrics import mean_squared_error\n",
        "from sklearn.linear_model import Perceptron\n",
        "from sklearn.pipeline import Pipeline\n",
        "from sklearn.preprocessing import StandardScaler"
      ],
      "execution_count": 37,
      "outputs": []
    },
    {
      "cell_type": "markdown",
      "metadata": {
        "id": "s2Dfu0B6w-WM"
      },
      "source": [
        "Dopodichè estraiamo dal Dataframe la variabile da prevedere (`stroke`) e il Dataframe costituito unicamente dalle altre variabili:"
      ]
    },
    {
      "cell_type": "code",
      "metadata": {
        "id": "iqfQGT0bxEiZ"
      },
      "source": [
        "X = data.drop(columns=\"stroke\")\n",
        "y = data[\"stroke\"]"
      ],
      "execution_count": 38,
      "outputs": []
    },
    {
      "cell_type": "markdown",
      "metadata": {
        "id": "asl1fd0hxe_J"
      },
      "source": [
        "Procediamo dunque suddividendo i dati in training e validation set tramite metodo **holdout**:"
      ]
    },
    {
      "cell_type": "code",
      "metadata": {
        "id": "t2s2a6FTyKlM"
      },
      "source": [
        "X_train, X_val, y_train, y_val = train_test_split(X, y, test_size=1/3, random_state=42)"
      ],
      "execution_count": 39,
      "outputs": []
    },
    {
      "cell_type": "markdown",
      "metadata": {
        "id": "jg_o7pNDyuo5"
      },
      "source": [
        "Eseguiamo adesso una prova usando i set appena creati per valutare un semplice modello basato su Perceptron:"
      ]
    },
    {
      "cell_type": "code",
      "metadata": {
        "id": "AUsLoSXOzGO-"
      },
      "source": [
        "model = Pipeline([\n",
        "                  (\"perc\", Perceptron(n_jobs=-1, random_state=42))\n",
        "])"
      ],
      "execution_count": 40,
      "outputs": []
    },
    {
      "cell_type": "code",
      "metadata": {
        "colab": {
          "base_uri": "https://localhost:8080/"
        },
        "id": "_hxhFmVu3ozG",
        "outputId": "390053e0-90f1-45ba-f005-9c76f3ebb717"
      },
      "source": [
        "model.fit(X_train, y_train)\n",
        "print(\"R-squared coefficient:\")\n",
        "model.score(X_val, y_val)"
      ],
      "execution_count": 41,
      "outputs": [
        {
          "output_type": "stream",
          "text": [
            "R-squared coefficient:\n"
          ],
          "name": "stdout"
        },
        {
          "output_type": "execute_result",
          "data": {
            "text/plain": [
              "0.9159369527145359"
            ]
          },
          "metadata": {
            "tags": []
          },
          "execution_count": 41
        }
      ]
    },
    {
      "cell_type": "markdown",
      "metadata": {
        "id": "kCh35wYXG0Ex"
      },
      "source": [
        "Il nostro modello, nonostante le variabili non siano normalizzate, produce già ottimi risultati con un tasso di accuratezza che arriva a `91,6 %` di accuratezza. Ciò accade perchè le variabili presenti non presentano ordini di grandezza troppo distanti.\n",
        "\n",
        "Proviamo adesso a **standardizzare** le feature e vedere come ciò influisca sui nostri risultati:"
      ]
    },
    {
      "cell_type": "code",
      "metadata": {
        "id": "WpCQl_KrH_w8"
      },
      "source": [
        "std_model = Pipeline([\n",
        "                      (\"scaler\", StandardScaler()),\n",
        "                      (\"perc\", Perceptron(n_jobs=-1, random_state=42))\n",
        "])"
      ],
      "execution_count": 42,
      "outputs": []
    },
    {
      "cell_type": "code",
      "metadata": {
        "colab": {
          "base_uri": "https://localhost:8080/"
        },
        "id": "3XC-u56UITe4",
        "outputId": "b8f1e2ba-5851-4624-d767-90d4863421eb"
      },
      "source": [
        "std_model.fit(X_train, y_train)\n",
        "print(\"R-squared coefficient:\")\n",
        "std_model.score(X_val, y_val)"
      ],
      "execution_count": 43,
      "outputs": [
        {
          "output_type": "stream",
          "text": [
            "R-squared coefficient:\n"
          ],
          "name": "stdout"
        },
        {
          "output_type": "execute_result",
          "data": {
            "text/plain": [
              "0.9369527145359019"
            ]
          },
          "metadata": {
            "tags": []
          },
          "execution_count": 43
        }
      ]
    },
    {
      "cell_type": "markdown",
      "metadata": {
        "id": "d8b1hSZCJn_a"
      },
      "source": [
        "Appare che standardizzando le feature il tasso di accuratezza, seppur di poco, salga ancora.\n",
        "Proviamo adesso ad aggiungere una **regolarizzazione con norma L1** per individuare le feature più rilevanti e eliminare eventuali feature inutili:\n"
      ]
    },
    {
      "cell_type": "code",
      "metadata": {
        "id": "OAIG97GjKLma"
      },
      "source": [
        "std_l1_model = Pipeline([\n",
        "                      (\"scaler\", StandardScaler()),\n",
        "                      (\"perc\", Perceptron(penalty=\"l1\", alpha=0.0001, n_jobs=-1, random_state=42))\n",
        "])"
      ],
      "execution_count": 44,
      "outputs": []
    },
    {
      "cell_type": "code",
      "metadata": {
        "colab": {
          "base_uri": "https://localhost:8080/"
        },
        "id": "AwKo7oERKgOY",
        "outputId": "d35b0492-a273-443b-a3c0-734c675209ed"
      },
      "source": [
        "std_l1_model.fit(X_train, y_train)\n",
        "print(\"R-squared coefficient:\")\n",
        "std_l1_model.score(X_val, y_val)"
      ],
      "execution_count": 45,
      "outputs": [
        {
          "output_type": "stream",
          "text": [
            "R-squared coefficient:\n"
          ],
          "name": "stdout"
        },
        {
          "output_type": "execute_result",
          "data": {
            "text/plain": [
              "0.936077057793345"
            ]
          },
          "metadata": {
            "tags": []
          },
          "execution_count": 45
        }
      ]
    },
    {
      "cell_type": "code",
      "metadata": {
        "colab": {
          "base_uri": "https://localhost:8080/",
          "height": 0
        },
        "id": "3edXsmTgPdYJ",
        "outputId": "c41f9113-81af-4254-8ca2-375305663249"
      },
      "source": [
        "col_coef = pd.DataFrame(std_l1_model.named_steps[\"perc\"].coef_[0], columns=[\"coefficients\"], index=X.columns)\n",
        "col_coef"
      ],
      "execution_count": 46,
      "outputs": [
        {
          "output_type": "execute_result",
          "data": {
            "text/html": [
              "<div>\n",
              "<style scoped>\n",
              "    .dataframe tbody tr th:only-of-type {\n",
              "        vertical-align: middle;\n",
              "    }\n",
              "\n",
              "    .dataframe tbody tr th {\n",
              "        vertical-align: top;\n",
              "    }\n",
              "\n",
              "    .dataframe thead th {\n",
              "        text-align: right;\n",
              "    }\n",
              "</style>\n",
              "<table border=\"1\" class=\"dataframe\">\n",
              "  <thead>\n",
              "    <tr style=\"text-align: right;\">\n",
              "      <th></th>\n",
              "      <th>coefficients</th>\n",
              "    </tr>\n",
              "  </thead>\n",
              "  <tbody>\n",
              "    <tr>\n",
              "      <th>age</th>\n",
              "      <td>1.466258</td>\n",
              "    </tr>\n",
              "    <tr>\n",
              "      <th>hypertension</th>\n",
              "      <td>0.000000</td>\n",
              "    </tr>\n",
              "    <tr>\n",
              "      <th>heart_disease</th>\n",
              "      <td>-1.926350</td>\n",
              "    </tr>\n",
              "    <tr>\n",
              "      <th>avg_glucose_level</th>\n",
              "      <td>0.000000</td>\n",
              "    </tr>\n",
              "    <tr>\n",
              "      <th>bmi</th>\n",
              "      <td>0.000000</td>\n",
              "    </tr>\n",
              "    <tr>\n",
              "      <th>gender_Female</th>\n",
              "      <td>0.000000</td>\n",
              "    </tr>\n",
              "    <tr>\n",
              "      <th>gender_Male</th>\n",
              "      <td>0.000000</td>\n",
              "    </tr>\n",
              "    <tr>\n",
              "      <th>work_Govt_job</th>\n",
              "      <td>0.000000</td>\n",
              "    </tr>\n",
              "    <tr>\n",
              "      <th>work_Never_worked</th>\n",
              "      <td>-14.150164</td>\n",
              "    </tr>\n",
              "    <tr>\n",
              "      <th>work_Private</th>\n",
              "      <td>0.042962</td>\n",
              "    </tr>\n",
              "    <tr>\n",
              "      <th>work_Self-employed</th>\n",
              "      <td>0.000000</td>\n",
              "    </tr>\n",
              "    <tr>\n",
              "      <th>work_children</th>\n",
              "      <td>-1.004935</td>\n",
              "    </tr>\n",
              "    <tr>\n",
              "      <th>Residence_Rural</th>\n",
              "      <td>0.000000</td>\n",
              "    </tr>\n",
              "    <tr>\n",
              "      <th>Residence_Urban</th>\n",
              "      <td>0.000000</td>\n",
              "    </tr>\n",
              "    <tr>\n",
              "      <th>smoking_formerly smoked</th>\n",
              "      <td>0.000000</td>\n",
              "    </tr>\n",
              "    <tr>\n",
              "      <th>smoking_never smoked</th>\n",
              "      <td>-1.494250</td>\n",
              "    </tr>\n",
              "    <tr>\n",
              "      <th>smoking_smokes</th>\n",
              "      <td>1.063614</td>\n",
              "    </tr>\n",
              "  </tbody>\n",
              "</table>\n",
              "</div>"
            ],
            "text/plain": [
              "                         coefficients\n",
              "age                          1.466258\n",
              "hypertension                 0.000000\n",
              "heart_disease               -1.926350\n",
              "avg_glucose_level            0.000000\n",
              "bmi                          0.000000\n",
              "gender_Female                0.000000\n",
              "gender_Male                  0.000000\n",
              "work_Govt_job                0.000000\n",
              "work_Never_worked          -14.150164\n",
              "work_Private                 0.042962\n",
              "work_Self-employed           0.000000\n",
              "work_children               -1.004935\n",
              "Residence_Rural              0.000000\n",
              "Residence_Urban              0.000000\n",
              "smoking_formerly smoked      0.000000\n",
              "smoking_never smoked        -1.494250\n",
              "smoking_smokes               1.063614"
            ]
          },
          "metadata": {
            "tags": []
          },
          "execution_count": 46
        }
      ]
    },
    {
      "cell_type": "code",
      "metadata": {
        "colab": {
          "base_uri": "https://localhost:8080/"
        },
        "id": "ASYuwMxGHowJ",
        "outputId": "2f083c17-ac5e-4bb4-9f1e-64a8e4c63a24"
      },
      "source": [
        "col_coef[col_coef.coefficients == 0].size"
      ],
      "execution_count": 47,
      "outputs": [
        {
          "output_type": "execute_result",
          "data": {
            "text/plain": [
              "10"
            ]
          },
          "metadata": {
            "tags": []
          },
          "execution_count": 47
        }
      ]
    },
    {
      "cell_type": "markdown",
      "metadata": {
        "id": "7q-WcWR5Bycn"
      },
      "source": [
        "Il modello ha una perdità di accuratezza infima e il peso di molte feature si annulla (si azzerano ben 10 feature su 17). Possiamo notare come emerga come feature più importante la colonna `work_Never_worked` che presenta un peso fortemente negativo. Possiamo anche notare come la feature `hypertension` si sia annullata a differenza di `heart_disease`risolvendo la presunta correlazione tra le due feature notata nel paragrafo di analisi dei dati.\n",
        "\n",
        "Procediamo eliminando le feature non rilevanti:"
      ]
    },
    {
      "cell_type": "code",
      "metadata": {
        "id": "f9t91EBu5xdn"
      },
      "source": [
        "data.drop(columns=col_coef[col_coef.coefficients == 0].index, inplace=True)"
      ],
      "execution_count": 48,
      "outputs": []
    },
    {
      "cell_type": "code",
      "metadata": {
        "id": "6MZICiyI5t_3"
      },
      "source": [
        "X = data.drop(columns=\"stroke\")\n",
        "y = data[\"stroke\"]"
      ],
      "execution_count": 49,
      "outputs": []
    },
    {
      "cell_type": "markdown",
      "metadata": {
        "id": "0eBAbltnH2g2"
      },
      "source": [
        "E' importante notare come gli score di accuratezza sopra ottenuti non siano da ritenersi attendibili in quanto il dataset in uso presenta classi fortemente sbilanciate, comportando la generazione di un modello molto sbilanciato (risolveremo questa problematica nel paragrafo di modellazione), come si può notare dalla seguente matrice di confusione:"
      ]
    },
    {
      "cell_type": "code",
      "metadata": {
        "id": "v1mJIEQaIltP"
      },
      "source": [
        "from sklearn.metrics import confusion_matrix"
      ],
      "execution_count": 50,
      "outputs": []
    },
    {
      "cell_type": "code",
      "metadata": {
        "colab": {
          "base_uri": "https://localhost:8080/",
          "height": 0
        },
        "id": "er2LJlqRIs6Q",
        "outputId": "fc67de67-86e4-4bb2-fd8b-1dd0d01ce4e2"
      },
      "source": [
        "index = [\"no stroke\", \"stroke\"]\n",
        "classes = [\"no stroke[P]\", \"stroke[P]\"]\n",
        "pd.DataFrame(confusion_matrix(y_val, std_l1_model.predict(X_val)), columns=classes, index = index)"
      ],
      "execution_count": 51,
      "outputs": [
        {
          "output_type": "execute_result",
          "data": {
            "text/html": [
              "<div>\n",
              "<style scoped>\n",
              "    .dataframe tbody tr th:only-of-type {\n",
              "        vertical-align: middle;\n",
              "    }\n",
              "\n",
              "    .dataframe tbody tr th {\n",
              "        vertical-align: top;\n",
              "    }\n",
              "\n",
              "    .dataframe thead th {\n",
              "        text-align: right;\n",
              "    }\n",
              "</style>\n",
              "<table border=\"1\" class=\"dataframe\">\n",
              "  <thead>\n",
              "    <tr style=\"text-align: right;\">\n",
              "      <th></th>\n",
              "      <th>no stroke[P]</th>\n",
              "      <th>stroke[P]</th>\n",
              "    </tr>\n",
              "  </thead>\n",
              "  <tbody>\n",
              "    <tr>\n",
              "      <th>no stroke</th>\n",
              "      <td>1068</td>\n",
              "      <td>11</td>\n",
              "    </tr>\n",
              "    <tr>\n",
              "      <th>stroke</th>\n",
              "      <td>62</td>\n",
              "      <td>1</td>\n",
              "    </tr>\n",
              "  </tbody>\n",
              "</table>\n",
              "</div>"
            ],
            "text/plain": [
              "           no stroke[P]  stroke[P]\n",
              "no stroke          1068         11\n",
              "stroke               62          1"
            ]
          },
          "metadata": {
            "tags": []
          },
          "execution_count": 51
        }
      ]
    },
    {
      "cell_type": "markdown",
      "metadata": {
        "id": "-vSuWMJcNJgz"
      },
      "source": [
        "##Modellazione\n",
        "Partiamo importando le librerie che ci serviranno per la fase di modellazione:"
      ]
    },
    {
      "cell_type": "code",
      "metadata": {
        "id": "F4xY14TYR-gk"
      },
      "source": [
        "import warnings\n",
        "warnings.filterwarnings('ignore')\n",
        "\n",
        "from sklearn.metrics import f1_score\n",
        "from sklearn.model_selection import KFold\n",
        "from sklearn.model_selection import cross_val_score\n",
        "from sklearn.model_selection import GridSearchCV\n",
        "from sklearn.linear_model import LogisticRegression\n",
        "from imblearn.over_sampling import BorderlineSMOTE\n",
        "from imblearn.over_sampling import SMOTE\n",
        "from sklearn.svm import LinearSVC\n",
        "from sklearn.tree import DecisionTreeClassifier\n",
        "from sklearn.metrics import recall_score\n",
        "from sklearn.metrics import precision_score\n",
        "from sklearn.ensemble import RandomForestClassifier\n",
        "import math\n",
        "from sklearn import tree\n",
        "import graphviz"
      ],
      "execution_count": 52,
      "outputs": []
    },
    {
      "cell_type": "markdown",
      "metadata": {
        "id": "lPbNw5p5G7HD"
      },
      "source": [
        "Dato il forte sbilanciamento delle classi, è necessario ricorrere a una strategia di **oversampling** per fare in modo che il nostro modello non risulti troppo sbilanciato. In questo caso ricorriamo a **BorderlineSMOTE**, scelto dopo un testing fatto su SMOTE applicato a tutti i modelli sotto elencati. Altre tecniche in grado di risolvere tale problematica non verranno trattate nel seguente documento. Procediamo rinnovando training e validation set e facendo oversampling per compensare lo sbilanciamento:"
      ]
    },
    {
      "cell_type": "code",
      "metadata": {
        "id": "PJffh-z_48dj"
      },
      "source": [
        "X_train, X_val, y_train, y_val = train_test_split(X, y, test_size=1/3, random_state=42)"
      ],
      "execution_count": 53,
      "outputs": []
    },
    {
      "cell_type": "code",
      "metadata": {
        "id": "fYvhV7PySof1"
      },
      "source": [
        "sm = BorderlineSMOTE(random_state=42)\n",
        "X_res, y_res = sm.fit_resample(X, y)\n",
        "X_train_res, y_train_res = sm.fit_resample(X_train, y_train)\n",
        "X_train_res = pd.DataFrame(X_train_res, columns=X_train.columns)"
      ],
      "execution_count": 54,
      "outputs": []
    },
    {
      "cell_type": "code",
      "metadata": {
        "colab": {
          "base_uri": "https://localhost:8080/",
          "height": 204
        },
        "id": "0Z591rnDjHPz",
        "outputId": "4a2d808a-60e0-4ca7-d4ab-f7479a302640"
      },
      "source": [
        "X_train_res.head()"
      ],
      "execution_count": 55,
      "outputs": [
        {
          "output_type": "execute_result",
          "data": {
            "text/html": [
              "<div>\n",
              "<style scoped>\n",
              "    .dataframe tbody tr th:only-of-type {\n",
              "        vertical-align: middle;\n",
              "    }\n",
              "\n",
              "    .dataframe tbody tr th {\n",
              "        vertical-align: top;\n",
              "    }\n",
              "\n",
              "    .dataframe thead th {\n",
              "        text-align: right;\n",
              "    }\n",
              "</style>\n",
              "<table border=\"1\" class=\"dataframe\">\n",
              "  <thead>\n",
              "    <tr style=\"text-align: right;\">\n",
              "      <th></th>\n",
              "      <th>age</th>\n",
              "      <th>heart_disease</th>\n",
              "      <th>work_Never_worked</th>\n",
              "      <th>work_Private</th>\n",
              "      <th>work_children</th>\n",
              "      <th>smoking_never smoked</th>\n",
              "      <th>smoking_smokes</th>\n",
              "    </tr>\n",
              "  </thead>\n",
              "  <tbody>\n",
              "    <tr>\n",
              "      <th>0</th>\n",
              "      <td>31.0</td>\n",
              "      <td>0.0</td>\n",
              "      <td>0.0</td>\n",
              "      <td>1.0</td>\n",
              "      <td>0.0</td>\n",
              "      <td>1.0</td>\n",
              "      <td>0.0</td>\n",
              "    </tr>\n",
              "    <tr>\n",
              "      <th>1</th>\n",
              "      <td>64.0</td>\n",
              "      <td>0.0</td>\n",
              "      <td>0.0</td>\n",
              "      <td>0.0</td>\n",
              "      <td>0.0</td>\n",
              "      <td>1.0</td>\n",
              "      <td>0.0</td>\n",
              "    </tr>\n",
              "    <tr>\n",
              "      <th>2</th>\n",
              "      <td>30.0</td>\n",
              "      <td>0.0</td>\n",
              "      <td>0.0</td>\n",
              "      <td>0.0</td>\n",
              "      <td>0.0</td>\n",
              "      <td>1.0</td>\n",
              "      <td>0.0</td>\n",
              "    </tr>\n",
              "    <tr>\n",
              "      <th>3</th>\n",
              "      <td>36.0</td>\n",
              "      <td>0.0</td>\n",
              "      <td>0.0</td>\n",
              "      <td>0.0</td>\n",
              "      <td>0.0</td>\n",
              "      <td>0.0</td>\n",
              "      <td>1.0</td>\n",
              "    </tr>\n",
              "    <tr>\n",
              "      <th>4</th>\n",
              "      <td>52.0</td>\n",
              "      <td>0.0</td>\n",
              "      <td>0.0</td>\n",
              "      <td>1.0</td>\n",
              "      <td>0.0</td>\n",
              "      <td>1.0</td>\n",
              "      <td>0.0</td>\n",
              "    </tr>\n",
              "  </tbody>\n",
              "</table>\n",
              "</div>"
            ],
            "text/plain": [
              "    age  heart_disease  ...  smoking_never smoked  smoking_smokes\n",
              "0  31.0            0.0  ...                   1.0             0.0\n",
              "1  64.0            0.0  ...                   1.0             0.0\n",
              "2  30.0            0.0  ...                   1.0             0.0\n",
              "3  36.0            0.0  ...                   0.0             1.0\n",
              "4  52.0            0.0  ...                   1.0             0.0\n",
              "\n",
              "[5 rows x 7 columns]"
            ]
          },
          "metadata": {
            "tags": []
          },
          "execution_count": 55
        }
      ]
    },
    {
      "cell_type": "code",
      "metadata": {
        "colab": {
          "base_uri": "https://localhost:8080/"
        },
        "id": "AwppIATQUZDI",
        "outputId": "0457485a-6c4e-4aac-abb0-0728ce59560f"
      },
      "source": [
        "y_train_res.sum()"
      ],
      "execution_count": 56,
      "outputs": [
        {
          "output_type": "execute_result",
          "data": {
            "text/plain": [
              "2166"
            ]
          },
          "metadata": {
            "tags": []
          },
          "execution_count": 56
        }
      ]
    },
    {
      "cell_type": "markdown",
      "metadata": {
        "id": "0TTr0KI8bGku"
      },
      "source": [
        "Creaiamo dei dizionari per memorizzare i valori che otteremo dai modelli analizzati:\n"
      ]
    },
    {
      "cell_type": "code",
      "metadata": {
        "id": "1OT6uDlmbXGw"
      },
      "source": [
        "scores = {}\n",
        "f1_scores = {}\n",
        "precision = {}\n",
        "recall = {}"
      ],
      "execution_count": 57,
      "outputs": []
    },
    {
      "cell_type": "markdown",
      "metadata": {
        "id": "DcELXuAIl8FM"
      },
      "source": [
        "###Perceptron"
      ]
    },
    {
      "cell_type": "markdown",
      "metadata": {
        "id": "x3eU6SzvmAdN"
      },
      "source": [
        "Iniziamo la fase di modellazione provando un modello basato su Perceptron, questa volta usando GridSearch per trovare i migliori parametri possibili. Analizziamo i seguenti iperparametri:\n",
        "- standardizzazione o meno delle feature\n",
        "- tipo di regolarizzazione del modello\n",
        "- peso della regolarizzazione\n",
        "- stima o meno dell'intercetta"
      ]
    },
    {
      "cell_type": "code",
      "metadata": {
        "id": "h11ZVERqf_2x"
      },
      "source": [
        "kfold = KFold(n_splits=5, shuffle=True, random_state=42)"
      ],
      "execution_count": 58,
      "outputs": []
    },
    {
      "cell_type": "code",
      "metadata": {
        "id": "tvHgxx3s3VSI"
      },
      "source": [
        "perc_model = Pipeline([\n",
        "    (\"scaler\", StandardScaler()),\n",
        "    (\"perc\", Perceptron(n_jobs=-1, random_state=42))\n",
        "])\n",
        "\n",
        "#print(per_model.get_params())\n",
        "\n",
        "perc_grid = {\n",
        "    \"scaler\": [None, StandardScaler()],\n",
        "    \"perc__penalty\": [\"l2\", \"l1\", \"elasticnet\"],\n",
        "    \"perc__alpha\": np.logspace(-3, 3, 10),\n",
        "    \"perc__fit_intercept\": [False, True]\n",
        "}"
      ],
      "execution_count": 59,
      "outputs": []
    },
    {
      "cell_type": "code",
      "metadata": {
        "colab": {
          "base_uri": "https://localhost:8080/"
        },
        "id": "3lPEZAyd3wnY",
        "outputId": "5e0ba5ea-981f-435b-cec9-c06315c7c14a"
      },
      "source": [
        "%%time\n",
        "\n",
        "perc_gv = GridSearchCV(perc_model, perc_grid, cv=kfold, n_jobs=-1)\n",
        "perc_gv.fit(X_train_res, y_train_res)"
      ],
      "execution_count": 60,
      "outputs": [
        {
          "output_type": "stream",
          "text": [
            "CPU times: user 1.26 s, sys: 67.8 ms, total: 1.33 s\n",
            "Wall time: 6.51 s\n"
          ],
          "name": "stdout"
        }
      ]
    },
    {
      "cell_type": "code",
      "metadata": {
        "colab": {
          "base_uri": "https://localhost:8080/"
        },
        "id": "2VaB81Zg4Nia",
        "outputId": "9dcec51d-076a-4221-db88-a98e6dbe4de7"
      },
      "source": [
        "print(\"Punteggio migliore: {score}\".format(score=perc_gv.score(X_val, y_val)));\n",
        "print(\"F1 score: {score}\".format(score=f1_score(y_val, perc_gv.predict(X_val), average=\"binary\")));\n",
        "print(\"Precision score: {score}\".format(score=precision_score(y_val, perc_gv.predict(X_val))))\n",
        "print(\"Recall score: {score}\".format(score=recall_score(y_val, perc_gv.predict(X_val))))\n",
        "print(\"Parametri migliori: {params}\".format(params=perc_gv.best_params_))\n",
        "\n",
        "scores[\"perc\"] = perc_gv.score(X_val, y_val);\n",
        "f1_scores[\"perc\"] = f1_score(y_val, perc_gv.predict(X_val), average=\"binary\")\n",
        "precision[\"perc\"] = precision_score(y_val, perc_gv.predict(X_val))\n",
        "recall[\"perc\"] = recall_score(y_val, perc_gv.predict(X_val))"
      ],
      "execution_count": 61,
      "outputs": [
        {
          "output_type": "stream",
          "text": [
            "Punteggio migliore: 0.7110332749562172\n",
            "F1 score: 0.23255813953488372\n",
            "Precision score: 0.1362397820163488\n",
            "Recall score: 0.7936507936507936\n",
            "Parametri migliori: {'perc__alpha': 0.001, 'perc__fit_intercept': False, 'perc__penalty': 'l1', 'scaler': StandardScaler(copy=True, with_mean=True, with_std=True)}\n"
          ],
          "name": "stdout"
        }
      ]
    },
    {
      "cell_type": "code",
      "metadata": {
        "colab": {
          "base_uri": "https://localhost:8080/",
          "height": 111
        },
        "id": "MfPLsMR7YqFq",
        "outputId": "b6f40534-50ed-4ea4-860a-221b71a0d141"
      },
      "source": [
        "index = [\"no stroke\", \"stroke\"]\n",
        "classes = [\"no stroke[P]\", \"stroke[P]\"]\n",
        "perc_conf = pd.DataFrame(confusion_matrix(y_res, perc_gv.predict(X_res)), columns=classes, index = index)\n",
        "perc_conf"
      ],
      "execution_count": 62,
      "outputs": [
        {
          "output_type": "execute_result",
          "data": {
            "text/html": [
              "<div>\n",
              "<style scoped>\n",
              "    .dataframe tbody tr th:only-of-type {\n",
              "        vertical-align: middle;\n",
              "    }\n",
              "\n",
              "    .dataframe tbody tr th {\n",
              "        vertical-align: top;\n",
              "    }\n",
              "\n",
              "    .dataframe thead th {\n",
              "        text-align: right;\n",
              "    }\n",
              "</style>\n",
              "<table border=\"1\" class=\"dataframe\">\n",
              "  <thead>\n",
              "    <tr style=\"text-align: right;\">\n",
              "      <th></th>\n",
              "      <th>no stroke[P]</th>\n",
              "      <th>stroke[P]</th>\n",
              "    </tr>\n",
              "  </thead>\n",
              "  <tbody>\n",
              "    <tr>\n",
              "      <th>no stroke</th>\n",
              "      <td>2268</td>\n",
              "      <td>977</td>\n",
              "    </tr>\n",
              "    <tr>\n",
              "      <th>stroke</th>\n",
              "      <td>572</td>\n",
              "      <td>2673</td>\n",
              "    </tr>\n",
              "  </tbody>\n",
              "</table>\n",
              "</div>"
            ],
            "text/plain": [
              "           no stroke[P]  stroke[P]\n",
              "no stroke          2268        977\n",
              "stroke              572       2673"
            ]
          },
          "metadata": {
            "tags": []
          },
          "execution_count": 62
        }
      ]
    },
    {
      "cell_type": "markdown",
      "metadata": {
        "id": "Re78pKudLo38"
      },
      "source": [
        "Come era prevedibile l'uso di SMOTE ha comportato una significativa riduzione del tasso di accuratezza. Dalla matrice di confusione si nota che il modello appare ancora piuttosto sbilanciato. Procediamo a migliorarlo usando la **Regressione Logistica**."
      ]
    },
    {
      "cell_type": "markdown",
      "metadata": {
        "id": "ryEiXlKWjNXy"
      },
      "source": [
        "###Regressione Logistica"
      ]
    },
    {
      "cell_type": "markdown",
      "metadata": {
        "id": "Z7QYeN0FeDAJ"
      },
      "source": [
        "Iniziamo la fase di modellazione provando un modello di Regressione Logistica con scelti dei migliori parametri tramite uso di GridSearch, con test sui seguenti parametri:\n",
        "- standardizzazione o meno delle feature\n",
        "- tipo di regolarizzazione del modello"
      ]
    },
    {
      "cell_type": "code",
      "metadata": {
        "id": "yFK6LbqWeaNh"
      },
      "source": [
        "log_model = Pipeline([\n",
        "    (\"scaler\", StandardScaler()),\n",
        "    (\"log_reg\", LogisticRegression(solver='saga', random_state=42))\n",
        "])\n",
        "\n",
        "log_grid = {\n",
        "    \"scaler\": [None, StandardScaler()],\n",
        "    \"log_reg__penalty\": [\"l2\", \"l1\"],\n",
        "    \"log_reg__C\": np.logspace(-3, 3, 10),\n",
        "    \"log_reg__fit_intercept\": [False, True]\n",
        "}"
      ],
      "execution_count": 63,
      "outputs": []
    },
    {
      "cell_type": "code",
      "metadata": {
        "colab": {
          "base_uri": "https://localhost:8080/"
        },
        "id": "A3ILogBY31KZ",
        "outputId": "2fe81d76-c293-453b-ded6-f30b53bd2e91"
      },
      "source": [
        "%%time\n",
        "\n",
        "log_gv = GridSearchCV(log_model, log_grid, cv=kfold, n_jobs=-1)\n",
        "log_gv.fit(X_train_res, y_train_res)"
      ],
      "execution_count": 64,
      "outputs": [
        {
          "output_type": "stream",
          "text": [
            "CPU times: user 931 ms, sys: 83.6 ms, total: 1.01 s\n",
            "Wall time: 17.1 s\n"
          ],
          "name": "stdout"
        }
      ]
    },
    {
      "cell_type": "code",
      "metadata": {
        "colab": {
          "base_uri": "https://localhost:8080/"
        },
        "id": "ylNFbrrHg_pa",
        "outputId": "0c9e7fc3-e4d4-480d-caaa-525fb4758ab4"
      },
      "source": [
        "print(\"Punteggio migliore: {score}\".format(score=log_gv.score(X_val, y_val)));\n",
        "print(\"F1 score: {score}\".format(score=f1_score(y_val, log_gv.predict(X_val), average=\"binary\")));\n",
        "print(\"Precision score: {score}\".format(score=precision_score(y_val, log_gv.predict(X_val))))\n",
        "print(\"Recall score: {score}\".format(score=recall_score(y_val, log_gv.predict(X_val))))\n",
        "print(\"Parametri migliori: {params}\".format(params=log_gv.best_params_))\n",
        "\n",
        "scores[\"log\"] = log_gv.score(X_val, y_val);\n",
        "f1_scores[\"log\"] = f1_score(y_val, log_gv.predict(X_val), average=\"binary\")\n",
        "precision[\"log\"] = precision_score(y_val, log_gv.predict(X_val))\n",
        "recall[\"log\"] = recall_score(y_val, log_gv.predict(X_val))"
      ],
      "execution_count": 65,
      "outputs": [
        {
          "output_type": "stream",
          "text": [
            "Punteggio migliore: 0.7171628721541156\n",
            "F1 score: 0.2327790973871734\n",
            "Precision score: 0.13687150837988826\n",
            "Recall score: 0.7777777777777778\n",
            "Parametri migliori: {'log_reg__C': 0.021544346900318832, 'log_reg__fit_intercept': True, 'log_reg__penalty': 'l1', 'scaler': StandardScaler(copy=True, with_mean=True, with_std=True)}\n"
          ],
          "name": "stdout"
        }
      ]
    },
    {
      "cell_type": "code",
      "metadata": {
        "id": "toU65tz5aW-p",
        "colab": {
          "base_uri": "https://localhost:8080/",
          "height": 111
        },
        "outputId": "ee50db6d-d015-468d-edfc-b22ff00800b4"
      },
      "source": [
        "log_conf = pd.DataFrame(confusion_matrix(y_res, log_gv.predict(X_res)), columns=classes, index = index)\n",
        "log_conf"
      ],
      "execution_count": 66,
      "outputs": [
        {
          "output_type": "execute_result",
          "data": {
            "text/html": [
              "<div>\n",
              "<style scoped>\n",
              "    .dataframe tbody tr th:only-of-type {\n",
              "        vertical-align: middle;\n",
              "    }\n",
              "\n",
              "    .dataframe tbody tr th {\n",
              "        vertical-align: top;\n",
              "    }\n",
              "\n",
              "    .dataframe thead th {\n",
              "        text-align: right;\n",
              "    }\n",
              "</style>\n",
              "<table border=\"1\" class=\"dataframe\">\n",
              "  <thead>\n",
              "    <tr style=\"text-align: right;\">\n",
              "      <th></th>\n",
              "      <th>no stroke[P]</th>\n",
              "      <th>stroke[P]</th>\n",
              "    </tr>\n",
              "  </thead>\n",
              "  <tbody>\n",
              "    <tr>\n",
              "      <th>no stroke</th>\n",
              "      <td>2333</td>\n",
              "      <td>912</td>\n",
              "    </tr>\n",
              "    <tr>\n",
              "      <th>stroke</th>\n",
              "      <td>475</td>\n",
              "      <td>2770</td>\n",
              "    </tr>\n",
              "  </tbody>\n",
              "</table>\n",
              "</div>"
            ],
            "text/plain": [
              "           no stroke[P]  stroke[P]\n",
              "no stroke          2333        912\n",
              "stroke              475       2770"
            ]
          },
          "metadata": {
            "tags": []
          },
          "execution_count": 66
        }
      ]
    },
    {
      "cell_type": "markdown",
      "metadata": {
        "id": "hnXrGz6IMOU1"
      },
      "source": [
        "Il tasso di accuratezza si abbassa ancora ma ciononostante la matrice di confusione indica che abbiamo un netto miglioramento nelle capacità predittiva del modello che adesso risulta notevolmente più affidabile (specialmente nel caso di falsi negativi) rispetto al modello basato su **Perceptron**. D'altra parte il tasso di falsi positivi è ancora molto alto. Proviamo in seguito una modellazione tramite **Support Vector Machines**."
      ]
    },
    {
      "cell_type": "markdown",
      "metadata": {
        "id": "km1M4TEzNOjP"
      },
      "source": [
        "###SVM"
      ]
    },
    {
      "cell_type": "code",
      "metadata": {
        "id": "pYKrkLnFOagn"
      },
      "source": [
        "svc_model = Pipeline([\n",
        "    (\"scaler\", StandardScaler()),\n",
        "    (\"svc\", LinearSVC(dual=False, random_state=42))\n",
        "])\n",
        "\n",
        "svc_grid = {\n",
        "    \"scaler\": [None, StandardScaler()],\n",
        "    \"svc__penalty\": [\"l2\", \"l1\"],\n",
        "    \"svc__loss\": [\"hinge\", \"squared_hinge\"],\n",
        "    \"svc__fit_intercept\": [False, True],\n",
        "    \"svc__class_weight\": [None, \"balanced\"],\n",
        "    \"svc__C\": np.logspace(-3, 3, 10)\n",
        "}"
      ],
      "execution_count": 67,
      "outputs": []
    },
    {
      "cell_type": "code",
      "metadata": {
        "id": "7JD8HVudP9Q7",
        "colab": {
          "base_uri": "https://localhost:8080/"
        },
        "outputId": "32f54c71-b5e6-4214-c7d6-e66fcddf1d12"
      },
      "source": [
        "%%time\n",
        "\n",
        "svc_gv = GridSearchCV(svc_model, svc_grid, cv=kfold, n_jobs=-1)\n",
        "svc_gv.fit(X_train_res, y_train_res)"
      ],
      "execution_count": 68,
      "outputs": [
        {
          "output_type": "stream",
          "text": [
            "CPU times: user 2.38 s, sys: 80.2 ms, total: 2.46 s\n",
            "Wall time: 10.4 s\n"
          ],
          "name": "stdout"
        }
      ]
    },
    {
      "cell_type": "code",
      "metadata": {
        "id": "mKoxV-_zQjOq",
        "colab": {
          "base_uri": "https://localhost:8080/"
        },
        "outputId": "e01c4b33-6a4f-4b9a-9f01-6bd312bcfbe3"
      },
      "source": [
        "print(\"Punteggio migliore: {score}\".format(score=svc_gv.score(X_val, y_val)));\n",
        "print(\"F1 score: {score}\".format(score=f1_score(y_val, svc_gv.predict(X_val), average=\"binary\")));\n",
        "print(\"Precision score: {score}\".format(score=precision_score(y_val, svc_gv.predict(X_val))))\n",
        "print(\"Recall score: {score}\".format(score=recall_score(y_val, svc_gv.predict(X_val))))\n",
        "print(\"Parametri migliori: {params}\".format(params=svc_gv.best_params_))\n",
        "\n",
        "scores[\"svc\"] = svc_gv.score(X_val, y_val);\n",
        "f1_scores[\"svc\"] = f1_score(y_val, svc_gv.predict(X_val), average=\"binary\")\n",
        "precision[\"svc\"] = precision_score(y_val, svc_gv.predict(X_val))\n",
        "recall[\"svc\"] = recall_score(y_val, svc_gv.predict(X_val))"
      ],
      "execution_count": 69,
      "outputs": [
        {
          "output_type": "stream",
          "text": [
            "Punteggio migliore: 0.7092819614711033\n",
            "F1 score: 0.22790697674418606\n",
            "Precision score: 0.1335149863760218\n",
            "Recall score: 0.7777777777777778\n",
            "Parametri migliori: {'scaler': None, 'svc__C': 0.46415888336127775, 'svc__class_weight': 'balanced', 'svc__fit_intercept': True, 'svc__loss': 'squared_hinge', 'svc__penalty': 'l1'}\n"
          ],
          "name": "stdout"
        }
      ]
    },
    {
      "cell_type": "code",
      "metadata": {
        "id": "0YJ3WEhnQnGJ",
        "colab": {
          "base_uri": "https://localhost:8080/",
          "height": 111
        },
        "outputId": "f1259926-1f25-49dd-8608-f2c998f77e57"
      },
      "source": [
        "svc_conf = pd.DataFrame(confusion_matrix(y_res, svc_gv.predict(X_res)), columns=classes, index = index)\n",
        "svc_conf"
      ],
      "execution_count": 70,
      "outputs": [
        {
          "output_type": "execute_result",
          "data": {
            "text/html": [
              "<div>\n",
              "<style scoped>\n",
              "    .dataframe tbody tr th:only-of-type {\n",
              "        vertical-align: middle;\n",
              "    }\n",
              "\n",
              "    .dataframe tbody tr th {\n",
              "        vertical-align: top;\n",
              "    }\n",
              "\n",
              "    .dataframe thead th {\n",
              "        text-align: right;\n",
              "    }\n",
              "</style>\n",
              "<table border=\"1\" class=\"dataframe\">\n",
              "  <thead>\n",
              "    <tr style=\"text-align: right;\">\n",
              "      <th></th>\n",
              "      <th>no stroke[P]</th>\n",
              "      <th>stroke[P]</th>\n",
              "    </tr>\n",
              "  </thead>\n",
              "  <tbody>\n",
              "    <tr>\n",
              "      <th>no stroke</th>\n",
              "      <td>2303</td>\n",
              "      <td>942</td>\n",
              "    </tr>\n",
              "    <tr>\n",
              "      <th>stroke</th>\n",
              "      <td>480</td>\n",
              "      <td>2765</td>\n",
              "    </tr>\n",
              "  </tbody>\n",
              "</table>\n",
              "</div>"
            ],
            "text/plain": [
              "           no stroke[P]  stroke[P]\n",
              "no stroke          2303        942\n",
              "stroke              480       2765"
            ]
          },
          "metadata": {
            "tags": []
          },
          "execution_count": 70
        }
      ]
    },
    {
      "cell_type": "markdown",
      "metadata": {
        "id": "8aB1SjF_d3Fm"
      },
      "source": [
        "###Decision Tree"
      ]
    },
    {
      "cell_type": "markdown",
      "metadata": {
        "id": "IgPBII75emCn"
      },
      "source": [
        "Usiamo adesso un modello basato su **Albero di Regressione**, strutturato nel seguente modo:\n",
        "- ogni nodo contiene un predicato che a sua volta divide le istanze in input in 2 sottoinsiemi e cosi via ricorsivamente\n",
        "- ogni nodo foglia rappresenta la classificazione attuata sulle istanze che hanno soddisfatto tutti i predicati precedenti\n",
        "\n",
        "Procediamo all'addestramento:"
      ]
    },
    {
      "cell_type": "code",
      "metadata": {
        "id": "vh5JtbYPALj7"
      },
      "source": [
        "num_features = X.columns.size\n",
        "\n",
        "tree_model = Pipeline([\n",
        "    (\"scaler\", StandardScaler()),\n",
        "    (\"tree\", DecisionTreeClassifier(class_weight=\"balanced\", random_state=42))\n",
        "])\n",
        "\n",
        "#print(tree_model.get_params())\n",
        "\n",
        "tree_grid = {'scaler': [None, StandardScaler()],\n",
        "             'tree__min_samples_split': range(2, 6),\n",
        "             'tree__min_samples_leaf': range(1, 6), \n",
        "             'tree__max_depth': range(2,6),\n",
        "             'tree__max_features': range(2, num_features)}"
      ],
      "execution_count": 71,
      "outputs": []
    },
    {
      "cell_type": "code",
      "metadata": {
        "colab": {
          "base_uri": "https://localhost:8080/"
        },
        "id": "BlIikmcYCDzV",
        "outputId": "dd75eb2a-84a8-4e56-edcb-7a1d4be13e72"
      },
      "source": [
        "%%time\n",
        "\n",
        "tree_gv = GridSearchCV(tree_model, tree_grid, cv=kfold, n_jobs=-1)\n",
        "tree_gv.fit(X_train_res, y_train_res)"
      ],
      "execution_count": 72,
      "outputs": [
        {
          "output_type": "stream",
          "text": [
            "CPU times: user 6.68 s, sys: 166 ms, total: 6.85 s\n",
            "Wall time: 25.4 s\n"
          ],
          "name": "stdout"
        }
      ]
    },
    {
      "cell_type": "code",
      "metadata": {
        "colab": {
          "base_uri": "https://localhost:8080/"
        },
        "id": "E0M94sWiCLxE",
        "outputId": "11487ddf-cb5b-40c1-d9f7-a44974be2cb2"
      },
      "source": [
        "print(\"Punteggio migliore: {score}\".format(score=tree_gv.score(X_val, y_val)));\n",
        "print(\"F1 score: {score}\".format(score=f1_score(y_val, tree_gv.predict(X_val), average=\"binary\")));\n",
        "print(\"Precision score: {score}\".format(score=precision_score(y_val, tree_gv.predict(X_val))))\n",
        "print(\"Recall score: {score}\".format(score=recall_score(y_val, tree_gv.predict(X_val))))\n",
        "print(\"Parametri migliori: {params}\".format(params=tree_gv.best_params_))\n",
        "\n",
        "scores[\"tree\"] = tree_gv.score(X_val, y_val);\n",
        "f1_scores[\"tree\"] = f1_score(y_val, tree_gv.predict(X_val), average=\"binary\")\n",
        "precision[\"tree\"] = precision_score(y_val, tree_gv.predict(X_val))\n",
        "recall[\"tree\"] = recall_score(y_val, tree_gv.predict(X_val))"
      ],
      "execution_count": 73,
      "outputs": [
        {
          "output_type": "stream",
          "text": [
            "Punteggio migliore: 0.8966725043782837\n",
            "F1 score: 0.20270270270270274\n",
            "Precision score: 0.17647058823529413\n",
            "Recall score: 0.23809523809523808\n",
            "Parametri migliori: {'scaler': None, 'tree__max_depth': 5, 'tree__max_features': 3, 'tree__min_samples_leaf': 1, 'tree__min_samples_split': 2}\n"
          ],
          "name": "stdout"
        }
      ]
    },
    {
      "cell_type": "markdown",
      "metadata": {
        "id": "j79t4BrBhLkO"
      },
      "source": [
        "Il modello ottiene i valori migliori rispetto ai modelli precedenti con un tasso di accuratezza di gran lunga maggiore come possiamo notare dalla seguente tabella di confronto:"
      ]
    },
    {
      "cell_type": "markdown",
      "metadata": {
        "id": "qrLElFseo0XS"
      },
      "source": [
        "Tuttavia per ottenere una stima valida, osserviamo la matrice di confusione di questo modello:"
      ]
    },
    {
      "cell_type": "code",
      "metadata": {
        "colab": {
          "base_uri": "https://localhost:8080/",
          "height": 111
        },
        "id": "U-ZgOfbcodqP",
        "outputId": "d4d79a25-18e4-45ce-9eae-4e5d355289f5"
      },
      "source": [
        "tree_conf = pd.DataFrame(confusion_matrix(y_res, tree_gv.predict(X_res)), columns=classes, index = index)\n",
        "tree_conf"
      ],
      "execution_count": 74,
      "outputs": [
        {
          "output_type": "execute_result",
          "data": {
            "text/html": [
              "<div>\n",
              "<style scoped>\n",
              "    .dataframe tbody tr th:only-of-type {\n",
              "        vertical-align: middle;\n",
              "    }\n",
              "\n",
              "    .dataframe tbody tr th {\n",
              "        vertical-align: top;\n",
              "    }\n",
              "\n",
              "    .dataframe thead th {\n",
              "        text-align: right;\n",
              "    }\n",
              "</style>\n",
              "<table border=\"1\" class=\"dataframe\">\n",
              "  <thead>\n",
              "    <tr style=\"text-align: right;\">\n",
              "      <th></th>\n",
              "      <th>no stroke[P]</th>\n",
              "      <th>stroke[P]</th>\n",
              "    </tr>\n",
              "  </thead>\n",
              "  <tbody>\n",
              "    <tr>\n",
              "      <th>no stroke</th>\n",
              "      <td>3049</td>\n",
              "      <td>196</td>\n",
              "    </tr>\n",
              "    <tr>\n",
              "      <th>stroke</th>\n",
              "      <td>882</td>\n",
              "      <td>2363</td>\n",
              "    </tr>\n",
              "  </tbody>\n",
              "</table>\n",
              "</div>"
            ],
            "text/plain": [
              "           no stroke[P]  stroke[P]\n",
              "no stroke          3049        196\n",
              "stroke              882       2363"
            ]
          },
          "metadata": {
            "tags": []
          },
          "execution_count": 74
        }
      ]
    },
    {
      "cell_type": "markdown",
      "metadata": {
        "id": "175Xlbk7pZcp"
      },
      "source": [
        "Il modello, nonostante l'uso di BorderlineSmote, risulta fortemente sbilanciato e presenta un forte numero di falsi negativi. Questo implica che in questo caso i valori di coefficiente di correlazione e F1 Score non siano attendibili nel descrivere l'affidabilità del modello e che il modello sia probabilmente in **overfitting**."
      ]
    },
    {
      "cell_type": "markdown",
      "metadata": {
        "id": "xku6wJ-ThoJb"
      },
      "source": [
        "### Random Forest"
      ]
    },
    {
      "cell_type": "code",
      "metadata": {
        "id": "G6WFECAlWwu3"
      },
      "source": [
        "forest_model = Pipeline([\n",
        "    (\"scaler\", StandardScaler()),\n",
        "    (\"forest\", RandomForestClassifier(n_jobs=-1, random_state=42))\n",
        "])\n",
        "\n",
        "forest_grid = {\"scaler\": [None, StandardScaler()],\n",
        "             'forest__n_estimators': range(5, 10),\n",
        "             'forest__min_samples_split': range(2, 5), \n",
        "             'forest__max_depth': [None] + [i for i in range(1, 3)],\n",
        "             'forest__max_features': [int(math.sqrt(num_features)), num_features - 1]}"
      ],
      "execution_count": 75,
      "outputs": []
    },
    {
      "cell_type": "code",
      "metadata": {
        "id": "qDNj80hDaY3B",
        "colab": {
          "base_uri": "https://localhost:8080/"
        },
        "outputId": "8b187cc7-d0c4-4b5f-de3e-ff3d5eadea39"
      },
      "source": [
        "%%time\n",
        "\n",
        "forest_gv = GridSearchCV(forest_model, forest_grid, cv=kfold, n_jobs=-1)\n",
        "forest_gv.fit(X_train_res, y_train_res)"
      ],
      "execution_count": 76,
      "outputs": [
        {
          "output_type": "stream",
          "text": [
            "CPU times: user 5.47 s, sys: 324 ms, total: 5.8 s\n",
            "Wall time: 1min 37s\n"
          ],
          "name": "stdout"
        }
      ]
    },
    {
      "cell_type": "code",
      "metadata": {
        "id": "e8V0tqgjalZy",
        "colab": {
          "base_uri": "https://localhost:8080/"
        },
        "outputId": "7b28f60f-85d9-441b-ab2d-2ebad2145e01"
      },
      "source": [
        "print(\"Punteggio migliore: {score}\".format(score=forest_gv.score(X_val, y_val)));\n",
        "print(\"Precision score: {score}\".format(score=precision_score(y_val, forest_gv.predict(X_val))))\n",
        "print(\"Recall score: {score}\".format(score=recall_score(y_val, forest_gv.predict(X_val))))\n",
        "print(\"Parametri migliori: {params}\".format(params=forest_gv.best_params_))\n",
        "\n",
        "scores[\"forest\"] = forest_gv.score(X_val, y_val);\n",
        "f1_scores[\"forest\"] = f1_score(y_val, forest_gv.predict(X_val), average=\"binary\")\n",
        "precision[\"forest\"] = precision_score(y_val, forest_gv.predict(X_val))\n",
        "recall[\"forest\"] = recall_score(y_val, forest_gv.predict(X_val))"
      ],
      "execution_count": 77,
      "outputs": [
        {
          "output_type": "stream",
          "text": [
            "Punteggio migliore: 0.8922942206654991\n",
            "Precision score: 0.13414634146341464\n",
            "Recall score: 0.1746031746031746\n",
            "Parametri migliori: {'forest__max_depth': None, 'forest__max_features': 2, 'forest__min_samples_split': 3, 'forest__n_estimators': 5, 'scaler': None}\n"
          ],
          "name": "stdout"
        }
      ]
    },
    {
      "cell_type": "code",
      "metadata": {
        "id": "YsUZ9cwqa7CD",
        "colab": {
          "base_uri": "https://localhost:8080/",
          "height": 111
        },
        "outputId": "a3b6e7b1-1f2c-4bcf-9987-29bf74a1118b"
      },
      "source": [
        "forest_conf = pd.DataFrame(confusion_matrix(y_res, forest_gv.predict(X_res)), columns=classes, index = index)\n",
        "forest_conf"
      ],
      "execution_count": 78,
      "outputs": [
        {
          "output_type": "execute_result",
          "data": {
            "text/html": [
              "<div>\n",
              "<style scoped>\n",
              "    .dataframe tbody tr th:only-of-type {\n",
              "        vertical-align: middle;\n",
              "    }\n",
              "\n",
              "    .dataframe tbody tr th {\n",
              "        vertical-align: top;\n",
              "    }\n",
              "\n",
              "    .dataframe thead th {\n",
              "        text-align: right;\n",
              "    }\n",
              "</style>\n",
              "<table border=\"1\" class=\"dataframe\">\n",
              "  <thead>\n",
              "    <tr style=\"text-align: right;\">\n",
              "      <th></th>\n",
              "      <th>no stroke[P]</th>\n",
              "      <th>stroke[P]</th>\n",
              "    </tr>\n",
              "  </thead>\n",
              "  <tbody>\n",
              "    <tr>\n",
              "      <th>no stroke</th>\n",
              "      <td>3075</td>\n",
              "      <td>170</td>\n",
              "    </tr>\n",
              "    <tr>\n",
              "      <th>stroke</th>\n",
              "      <td>506</td>\n",
              "      <td>2739</td>\n",
              "    </tr>\n",
              "  </tbody>\n",
              "</table>\n",
              "</div>"
            ],
            "text/plain": [
              "           no stroke[P]  stroke[P]\n",
              "no stroke          3075        170\n",
              "stroke              506       2739"
            ]
          },
          "metadata": {
            "tags": []
          },
          "execution_count": 78
        }
      ]
    },
    {
      "cell_type": "markdown",
      "metadata": {
        "id": "CYz-0J4G2QGm"
      },
      "source": [
        "Il modello `RandomForestClassifier` si comporta infine in maniera molto simile al `DecisionTreeClassifier`, come era prevedibile essendo una Random Forest un insieme di Decision Tree.\n"
      ]
    },
    {
      "cell_type": "markdown",
      "metadata": {
        "id": "ogC379Pujv4i"
      },
      "source": [
        "##Valutazione dei vari modelli utilizzati"
      ]
    },
    {
      "cell_type": "markdown",
      "metadata": {
        "id": "DhcWojrEj1um"
      },
      "source": [
        "Confrontiamo adesso i vari modelli e i valori ottenuti da ciascuno di essi.\n",
        "Analizziamo **coefficiente R^2** e **F1 score**:"
      ]
    },
    {
      "cell_type": "code",
      "metadata": {
        "id": "1DaZpH_jDPfk",
        "colab": {
          "base_uri": "https://localhost:8080/",
          "height": 204
        },
        "outputId": "074ffd75-f682-4b64-ca3e-c47ae0a93cd6"
      },
      "source": [
        "pd.DataFrame.from_dict(scores, orient=\"index\", columns=[\"R^2 score\"])"
      ],
      "execution_count": 79,
      "outputs": [
        {
          "output_type": "execute_result",
          "data": {
            "text/html": [
              "<div>\n",
              "<style scoped>\n",
              "    .dataframe tbody tr th:only-of-type {\n",
              "        vertical-align: middle;\n",
              "    }\n",
              "\n",
              "    .dataframe tbody tr th {\n",
              "        vertical-align: top;\n",
              "    }\n",
              "\n",
              "    .dataframe thead th {\n",
              "        text-align: right;\n",
              "    }\n",
              "</style>\n",
              "<table border=\"1\" class=\"dataframe\">\n",
              "  <thead>\n",
              "    <tr style=\"text-align: right;\">\n",
              "      <th></th>\n",
              "      <th>R^2 score</th>\n",
              "    </tr>\n",
              "  </thead>\n",
              "  <tbody>\n",
              "    <tr>\n",
              "      <th>perc</th>\n",
              "      <td>0.711033</td>\n",
              "    </tr>\n",
              "    <tr>\n",
              "      <th>log</th>\n",
              "      <td>0.717163</td>\n",
              "    </tr>\n",
              "    <tr>\n",
              "      <th>svc</th>\n",
              "      <td>0.709282</td>\n",
              "    </tr>\n",
              "    <tr>\n",
              "      <th>tree</th>\n",
              "      <td>0.896673</td>\n",
              "    </tr>\n",
              "    <tr>\n",
              "      <th>forest</th>\n",
              "      <td>0.892294</td>\n",
              "    </tr>\n",
              "  </tbody>\n",
              "</table>\n",
              "</div>"
            ],
            "text/plain": [
              "        R^2 score\n",
              "perc     0.711033\n",
              "log      0.717163\n",
              "svc      0.709282\n",
              "tree     0.896673\n",
              "forest   0.892294"
            ]
          },
          "metadata": {
            "tags": []
          },
          "execution_count": 79
        }
      ]
    },
    {
      "cell_type": "code",
      "metadata": {
        "id": "WfWAsEJCDPfm",
        "colab": {
          "base_uri": "https://localhost:8080/",
          "height": 204
        },
        "outputId": "58644a9e-6d89-4823-8824-15527976584c"
      },
      "source": [
        "pd.DataFrame.from_dict(f1_scores, orient=\"index\", columns=[\"F1 score\"])"
      ],
      "execution_count": 80,
      "outputs": [
        {
          "output_type": "execute_result",
          "data": {
            "text/html": [
              "<div>\n",
              "<style scoped>\n",
              "    .dataframe tbody tr th:only-of-type {\n",
              "        vertical-align: middle;\n",
              "    }\n",
              "\n",
              "    .dataframe tbody tr th {\n",
              "        vertical-align: top;\n",
              "    }\n",
              "\n",
              "    .dataframe thead th {\n",
              "        text-align: right;\n",
              "    }\n",
              "</style>\n",
              "<table border=\"1\" class=\"dataframe\">\n",
              "  <thead>\n",
              "    <tr style=\"text-align: right;\">\n",
              "      <th></th>\n",
              "      <th>F1 score</th>\n",
              "    </tr>\n",
              "  </thead>\n",
              "  <tbody>\n",
              "    <tr>\n",
              "      <th>perc</th>\n",
              "      <td>0.232558</td>\n",
              "    </tr>\n",
              "    <tr>\n",
              "      <th>log</th>\n",
              "      <td>0.232779</td>\n",
              "    </tr>\n",
              "    <tr>\n",
              "      <th>svc</th>\n",
              "      <td>0.227907</td>\n",
              "    </tr>\n",
              "    <tr>\n",
              "      <th>tree</th>\n",
              "      <td>0.202703</td>\n",
              "    </tr>\n",
              "    <tr>\n",
              "      <th>forest</th>\n",
              "      <td>0.151724</td>\n",
              "    </tr>\n",
              "  </tbody>\n",
              "</table>\n",
              "</div>"
            ],
            "text/plain": [
              "        F1 score\n",
              "perc    0.232558\n",
              "log     0.232779\n",
              "svc     0.227907\n",
              "tree    0.202703\n",
              "forest  0.151724"
            ]
          },
          "metadata": {
            "tags": []
          },
          "execution_count": 80
        }
      ]
    },
    {
      "cell_type": "code",
      "metadata": {
        "id": "Ray74roTzWik",
        "colab": {
          "base_uri": "https://localhost:8080/",
          "height": 204
        },
        "outputId": "9b21648c-2a40-4956-b629-a84c99c62402"
      },
      "source": [
        "pd.DataFrame.from_dict(precision, orient=\"index\", columns=[\"Precision score\"])"
      ],
      "execution_count": 81,
      "outputs": [
        {
          "output_type": "execute_result",
          "data": {
            "text/html": [
              "<div>\n",
              "<style scoped>\n",
              "    .dataframe tbody tr th:only-of-type {\n",
              "        vertical-align: middle;\n",
              "    }\n",
              "\n",
              "    .dataframe tbody tr th {\n",
              "        vertical-align: top;\n",
              "    }\n",
              "\n",
              "    .dataframe thead th {\n",
              "        text-align: right;\n",
              "    }\n",
              "</style>\n",
              "<table border=\"1\" class=\"dataframe\">\n",
              "  <thead>\n",
              "    <tr style=\"text-align: right;\">\n",
              "      <th></th>\n",
              "      <th>Precision score</th>\n",
              "    </tr>\n",
              "  </thead>\n",
              "  <tbody>\n",
              "    <tr>\n",
              "      <th>perc</th>\n",
              "      <td>0.136240</td>\n",
              "    </tr>\n",
              "    <tr>\n",
              "      <th>log</th>\n",
              "      <td>0.136872</td>\n",
              "    </tr>\n",
              "    <tr>\n",
              "      <th>svc</th>\n",
              "      <td>0.133515</td>\n",
              "    </tr>\n",
              "    <tr>\n",
              "      <th>tree</th>\n",
              "      <td>0.176471</td>\n",
              "    </tr>\n",
              "    <tr>\n",
              "      <th>forest</th>\n",
              "      <td>0.134146</td>\n",
              "    </tr>\n",
              "  </tbody>\n",
              "</table>\n",
              "</div>"
            ],
            "text/plain": [
              "        Precision score\n",
              "perc           0.136240\n",
              "log            0.136872\n",
              "svc            0.133515\n",
              "tree           0.176471\n",
              "forest         0.134146"
            ]
          },
          "metadata": {
            "tags": []
          },
          "execution_count": 81
        }
      ]
    },
    {
      "cell_type": "code",
      "metadata": {
        "id": "8CzVa6Dp0X6D",
        "colab": {
          "base_uri": "https://localhost:8080/",
          "height": 204
        },
        "outputId": "cc36d10b-00eb-4577-c581-746af256f89c"
      },
      "source": [
        "pd.DataFrame.from_dict(recall, orient=\"index\", columns=[\"Recall score\"])"
      ],
      "execution_count": 82,
      "outputs": [
        {
          "output_type": "execute_result",
          "data": {
            "text/html": [
              "<div>\n",
              "<style scoped>\n",
              "    .dataframe tbody tr th:only-of-type {\n",
              "        vertical-align: middle;\n",
              "    }\n",
              "\n",
              "    .dataframe tbody tr th {\n",
              "        vertical-align: top;\n",
              "    }\n",
              "\n",
              "    .dataframe thead th {\n",
              "        text-align: right;\n",
              "    }\n",
              "</style>\n",
              "<table border=\"1\" class=\"dataframe\">\n",
              "  <thead>\n",
              "    <tr style=\"text-align: right;\">\n",
              "      <th></th>\n",
              "      <th>Recall score</th>\n",
              "    </tr>\n",
              "  </thead>\n",
              "  <tbody>\n",
              "    <tr>\n",
              "      <th>perc</th>\n",
              "      <td>0.793651</td>\n",
              "    </tr>\n",
              "    <tr>\n",
              "      <th>log</th>\n",
              "      <td>0.777778</td>\n",
              "    </tr>\n",
              "    <tr>\n",
              "      <th>svc</th>\n",
              "      <td>0.777778</td>\n",
              "    </tr>\n",
              "    <tr>\n",
              "      <th>tree</th>\n",
              "      <td>0.238095</td>\n",
              "    </tr>\n",
              "    <tr>\n",
              "      <th>forest</th>\n",
              "      <td>0.174603</td>\n",
              "    </tr>\n",
              "  </tbody>\n",
              "</table>\n",
              "</div>"
            ],
            "text/plain": [
              "        Recall score\n",
              "perc        0.793651\n",
              "log         0.777778\n",
              "svc         0.777778\n",
              "tree        0.238095\n",
              "forest      0.174603"
            ]
          },
          "metadata": {
            "tags": []
          },
          "execution_count": 82
        }
      ]
    },
    {
      "cell_type": "markdown",
      "metadata": {
        "id": "csqkJdMYudm4"
      },
      "source": [
        "Guardando le tabelle emerge che i modelli basati su `DecisionTreeClassifier` e `RandomForestClassifier` hanno score di determinazione e F1 score più alti rispetto agli altri modelli, tuttavia, essendo l'ambito medico il contesto di utilizzo, è più opportuno basare il nostro giudizio sul **Recall score** (ovvero i veri casi di ictus classificati correttamente).\n",
        "Ciò emerge anche dalle matrici di confusione dei vari modelli:"
      ]
    },
    {
      "cell_type": "code",
      "metadata": {
        "id": "vRL56Rnz5Lks",
        "colab": {
          "base_uri": "https://localhost:8080/"
        },
        "outputId": "acba4407-786e-4a9e-f38d-fe9f61dfd84e"
      },
      "source": [
        "print(\"Perceptron\")\n",
        "print(perc_conf)\n",
        "print(\"\\n\")\n",
        "print(\"Logistic Regression\")\n",
        "print(log_conf)\n",
        "print(\"\\n\")\n",
        "print(\"Support Vector Machines\")\n",
        "print(svc_conf)\n",
        "print(\"\\n\")\n",
        "print(\"Decision Tree\")\n",
        "print(tree_conf)\n",
        "print(\"\\n\")\n",
        "print(\"Random Forest\")\n",
        "print(forest_conf)"
      ],
      "execution_count": 83,
      "outputs": [
        {
          "output_type": "stream",
          "text": [
            "Perceptron\n",
            "           no stroke[P]  stroke[P]\n",
            "no stroke          2268        977\n",
            "stroke              572       2673\n",
            "\n",
            "\n",
            "Logistic Regression\n",
            "           no stroke[P]  stroke[P]\n",
            "no stroke          2333        912\n",
            "stroke              475       2770\n",
            "\n",
            "\n",
            "Support Vector Machines\n",
            "           no stroke[P]  stroke[P]\n",
            "no stroke          2303        942\n",
            "stroke              480       2765\n",
            "\n",
            "\n",
            "Decision Tree\n",
            "           no stroke[P]  stroke[P]\n",
            "no stroke          3049        196\n",
            "stroke              882       2363\n",
            "\n",
            "\n",
            "Random Forest\n",
            "           no stroke[P]  stroke[P]\n",
            "no stroke          3075        170\n",
            "stroke              506       2739\n"
          ],
          "name": "stdout"
        }
      ]
    },
    {
      "cell_type": "markdown",
      "metadata": {
        "id": "Bhqd5PRw8A-2"
      },
      "source": [
        "##Confronto modelli con intervallo di confidenza\n"
      ]
    },
    {
      "cell_type": "markdown",
      "metadata": {
        "id": "wbV2Tcf-8GQI"
      },
      "source": [
        "Effettuiamo adesso il confronto con intervallo di confidenza al 95% per constatare quanto siano affidabili i nostri modelli migliori (`Perceptron`, `LogisticRegression` e `SVM`):"
      ]
    },
    {
      "cell_type": "code",
      "metadata": {
        "id": "egYQcMLhDJyj"
      },
      "source": [
        "def confidence(acc, N, Z):\n",
        "    den = (2*(N+Z**2))\n",
        "    var = (Z*np.sqrt(Z**2+4*N*acc-4*N*acc**2)) / den\n",
        "    a = (2*N*acc+Z**2) / den\n",
        "    inf = a - var\n",
        "    sup = a + var\n",
        "    return (inf, sup)\n",
        "\n",
        "def calculate_accuracy(conf_matrix):\n",
        "    return np.diag(conf_matrix).sum() / conf_matrix.sum().sum()"
      ],
      "execution_count": 84,
      "outputs": []
    },
    {
      "cell_type": "code",
      "metadata": {
        "id": "rO9Fi1rJHuF1",
        "colab": {
          "base_uri": "https://localhost:8080/",
          "height": 142
        },
        "outputId": "5029fbfd-7a66-4486-b919-46229605076c"
      },
      "source": [
        "pd.DataFrame([confidence(calculate_accuracy(perc_conf), len(X_val), 1.96),\n",
        "              confidence(calculate_accuracy(log_conf), len(X_val), 1.96),\n",
        "              confidence(calculate_accuracy(svc_conf), len(X_val), 1.96)],\n",
        "                 index=[\"perceptron\", \"logistic reg\", \"SVM\"], columns=[\"inf\", \"sup\"])"
      ],
      "execution_count": 85,
      "outputs": [
        {
          "output_type": "execute_result",
          "data": {
            "text/html": [
              "<div>\n",
              "<style scoped>\n",
              "    .dataframe tbody tr th:only-of-type {\n",
              "        vertical-align: middle;\n",
              "    }\n",
              "\n",
              "    .dataframe tbody tr th {\n",
              "        vertical-align: top;\n",
              "    }\n",
              "\n",
              "    .dataframe thead th {\n",
              "        text-align: right;\n",
              "    }\n",
              "</style>\n",
              "<table border=\"1\" class=\"dataframe\">\n",
              "  <thead>\n",
              "    <tr style=\"text-align: right;\">\n",
              "      <th></th>\n",
              "      <th>inf</th>\n",
              "      <th>sup</th>\n",
              "    </tr>\n",
              "  </thead>\n",
              "  <tbody>\n",
              "    <tr>\n",
              "      <th>perceptron</th>\n",
              "      <td>0.735751</td>\n",
              "      <td>0.785147</td>\n",
              "    </tr>\n",
              "    <tr>\n",
              "      <th>logistic reg</th>\n",
              "      <td>0.761572</td>\n",
              "      <td>0.809082</td>\n",
              "    </tr>\n",
              "    <tr>\n",
              "      <th>SVM</th>\n",
              "      <td>0.755983</td>\n",
              "      <td>0.803921</td>\n",
              "    </tr>\n",
              "  </tbody>\n",
              "</table>\n",
              "</div>"
            ],
            "text/plain": [
              "                   inf       sup\n",
              "perceptron    0.735751  0.785147\n",
              "logistic reg  0.761572  0.809082\n",
              "SVM           0.755983  0.803921"
            ]
          },
          "metadata": {
            "tags": []
          },
          "execution_count": 85
        }
      ]
    },
    {
      "cell_type": "markdown",
      "metadata": {
        "id": "GhpWtD-lJLE_"
      },
      "source": [
        "Come si poteva anche notare dai punteggi di recall precedentemente mostrati e dalle matrici di confusione, il modello basato su Regressione Logistica risulta il più accurato."
      ]
    },
    {
      "cell_type": "markdown",
      "metadata": {
        "id": "rYbdhXskw8zv"
      },
      "source": [
        "##Confronto con un modello casuale"
      ]
    },
    {
      "cell_type": "markdown",
      "metadata": {
        "id": "3FiAgq8TxCfQ"
      },
      "source": [
        "Addestriamo adesso un modello casuale e valutiamo come esso performa sui nostri dati:"
      ]
    },
    {
      "cell_type": "code",
      "metadata": {
        "id": "mj9ik9Sxymgd"
      },
      "source": [
        "from sklearn.dummy import DummyClassifier"
      ],
      "execution_count": 86,
      "outputs": []
    },
    {
      "cell_type": "code",
      "metadata": {
        "id": "OtVs8uy9sI1x",
        "colab": {
          "base_uri": "https://localhost:8080/"
        },
        "outputId": "6a9c38e2-6ef5-43bf-8e1f-d088b72d2995"
      },
      "source": [
        "random = DummyClassifier(strategy=\"uniform\", random_state=42)\n",
        "random.fit(X_train_res, y_train_res)\n",
        "\n",
        "random_score = random.score(X_val, y_val)\n",
        "\n",
        "print(\"Score: {score}\".format(score=random_score));\n",
        "print(\"F1 score: {score}\".format(score=f1_score(y_val, random.predict(X_val))));\n",
        "print(\"Precision score: {score}\".format(score=precision_score(y_val, random.predict(X_val))))\n",
        "print(\"Recall score: {score}\".format(score=recall_score(y_val, random.predict(X_val))))\n",
        "\n",
        "scores[\"random\"] = random.score(X_val, y_val);\n",
        "f1_scores[\"random\"] = f1_score(y_val, random.predict(X_val), average=\"binary\")\n",
        "precision[\"random\"] = precision_score(y_val, random.predict(X_val))\n",
        "recall[\"random\"] = recall_score(y_val, random.predict(X_val))"
      ],
      "execution_count": 87,
      "outputs": [
        {
          "output_type": "stream",
          "text": [
            "Score: 0.5026269702276708\n",
            "F1 score: 0.10410094637223975\n",
            "Precision score: 0.05779334500875657\n",
            "Recall score: 0.5238095238095238\n"
          ],
          "name": "stdout"
        }
      ]
    },
    {
      "cell_type": "code",
      "metadata": {
        "id": "8f512VF9z2eo",
        "colab": {
          "base_uri": "https://localhost:8080/",
          "height": 111
        },
        "outputId": "e8d84aec-1888-4de6-f378-db6151ce0a05"
      },
      "source": [
        "random_conf = pd.DataFrame(confusion_matrix(y_res, random.predict(X_res)), columns=classes, index = index)\n",
        "random_conf"
      ],
      "execution_count": 88,
      "outputs": [
        {
          "output_type": "execute_result",
          "data": {
            "text/html": [
              "<div>\n",
              "<style scoped>\n",
              "    .dataframe tbody tr th:only-of-type {\n",
              "        vertical-align: middle;\n",
              "    }\n",
              "\n",
              "    .dataframe tbody tr th {\n",
              "        vertical-align: top;\n",
              "    }\n",
              "\n",
              "    .dataframe thead th {\n",
              "        text-align: right;\n",
              "    }\n",
              "</style>\n",
              "<table border=\"1\" class=\"dataframe\">\n",
              "  <thead>\n",
              "    <tr style=\"text-align: right;\">\n",
              "      <th></th>\n",
              "      <th>no stroke[P]</th>\n",
              "      <th>stroke[P]</th>\n",
              "    </tr>\n",
              "  </thead>\n",
              "  <tbody>\n",
              "    <tr>\n",
              "      <th>no stroke</th>\n",
              "      <td>1629</td>\n",
              "      <td>1616</td>\n",
              "    </tr>\n",
              "    <tr>\n",
              "      <th>stroke</th>\n",
              "      <td>1641</td>\n",
              "      <td>1604</td>\n",
              "    </tr>\n",
              "  </tbody>\n",
              "</table>\n",
              "</div>"
            ],
            "text/plain": [
              "           no stroke[P]  stroke[P]\n",
              "no stroke          1629       1616\n",
              "stroke             1641       1604"
            ]
          },
          "metadata": {
            "tags": []
          },
          "execution_count": 88
        }
      ]
    },
    {
      "cell_type": "markdown",
      "metadata": {
        "id": "FmcjKwh49DH4"
      },
      "source": [
        "Ovviamente i punteggi ottenuti non sono paragonabili a quelli dei modelli precedentemente addestrati.\n",
        "Procediamo confrontando il modello casuale con il modello basato su Regressione Logistica:"
      ]
    },
    {
      "cell_type": "code",
      "metadata": {
        "id": "KPmJj_rP9JfK"
      },
      "source": [
        "from scipy import stats\n",
        "\n",
        "def difference_between_two_models(error1, error2, confidence):\n",
        "    z_half_alfa = stats.norm.ppf(confidence)\n",
        "    variance = (((1 - error1) * error1) / len(y_val)) + (((1 - error2) * error2) / len(y_val))\n",
        "    d_minus = abs(error1 - error2) - z_half_alfa * (pow(variance, 0.5))\n",
        "    d_plus = abs(error1 - error2) + z_half_alfa * (pow(variance, 0.5))\n",
        "    print(\"Valore minimo: {}\\nValore massimo: {}\\n\".format(d_minus, d_plus))"
      ],
      "execution_count": 89,
      "outputs": []
    },
    {
      "cell_type": "code",
      "metadata": {
        "id": "CcQCFCFS9O8h",
        "colab": {
          "base_uri": "https://localhost:8080/"
        },
        "outputId": "f67bc3ca-ef36-4a9e-f487-8562dcb1a94a"
      },
      "source": [
        "difference_between_two_models(1 - f1_scores[\"log\"], 1 - f1_scores[\"random\"], 0.99)"
      ],
      "execution_count": 90,
      "outputs": [
        {
          "output_type": "stream",
          "text": [
            "Valore minimo: 0.09278498157235394\n",
            "Valore massimo: 0.16457132045751333\n",
            "\n"
          ],
          "name": "stdout"
        }
      ]
    },
    {
      "cell_type": "markdown",
      "metadata": {
        "id": "v0xfDXPPP_3-"
      },
      "source": [
        "##Conclusioni"
      ]
    },
    {
      "cell_type": "markdown",
      "metadata": {
        "id": "Brp2xb8TausW"
      },
      "source": [
        "Considerando i valori ottenuti dal modello, specialmente facendo riferimento allo score di recall ottenuto, mi reputo personalmente soddisfatto del lavoro svolto, poichè seppur l'F1 score ottenuto non sia molto alto rispetto a quello di altri progetti presenti su Kaggle (diversi modelli non bilanciavano correttamente la distribuzione delle classi, da qui score estremamente alti), il modello si rivela solido. Ovviamente il modello non può rimpiazzare il giudizio di un medico ma può essere un buono strumento per analizzare e valutare le condizioni di salute di un individuo rispetto alla possibilità di colpi apoplettici"
      ]
    }
  ]
}